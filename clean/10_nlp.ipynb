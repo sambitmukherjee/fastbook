{
  "cells": [
    {
      "cell_type": "code",
      "execution_count": 1,
      "metadata": {
        "id": "dAt7ZHA5Clxg"
      },
      "outputs": [],
      "source": [
        "!pip install -Uqq fastbook\n",
        "import fastbook\n",
        "fastbook.setup_book()"
      ]
    },
    {
      "cell_type": "code",
      "execution_count": 2,
      "metadata": {
        "id": "AMrsOYxgClxp"
      },
      "outputs": [],
      "source": [
        "from fastbook import *\n",
        "from IPython.display import display, HTML"
      ]
    },
    {
      "cell_type": "code",
      "execution_count": 3,
      "metadata": {
        "colab": {
          "base_uri": "https://localhost:8080/"
        },
        "id": "IMrN69cwDdg0",
        "outputId": "a79673f1-90ec-4bba-95ff-b05927b78b97"
      },
      "outputs": [
        {
          "output_type": "execute_result",
          "data": {
            "text/plain": [
              "Path('/content/gdrive/My Drive')"
            ]
          },
          "metadata": {},
          "execution_count": 3
        }
      ],
      "source": [
        "gdrive"
      ]
    },
    {
      "cell_type": "code",
      "execution_count": 4,
      "metadata": {
        "colab": {
          "base_uri": "https://localhost:8080/"
        },
        "id": "37EvT2LXDeYY",
        "outputId": "1e0dd460-c771-4f19-cf6e-c44681442c58"
      },
      "outputs": [
        {
          "output_type": "execute_result",
          "data": {
            "text/plain": [
              "Path('/content/gdrive/My Drive/Colab Notebooks/fastbook/clean')"
            ]
          },
          "metadata": {},
          "execution_count": 4
        }
      ],
      "source": [
        "course_path = gdrive/'Colab Notebooks/fastbook/clean'\n",
        "course_path"
      ]
    },
    {
      "cell_type": "markdown",
      "metadata": {
        "id": "zBK8dpwJClxp"
      },
      "source": [
        "# NLP Deep Dive: RNNs"
      ]
    },
    {
      "cell_type": "markdown",
      "metadata": {
        "id": "A3eF8dUPClxq"
      },
      "source": [
        "## Text Preprocessing"
      ]
    },
    {
      "cell_type": "markdown",
      "metadata": {
        "id": "B2lIobySClxr"
      },
      "source": [
        "### Word Tokenization with fastai"
      ]
    },
    {
      "cell_type": "code",
      "source": [
        "from fastai.text.all import *"
      ],
      "metadata": {
        "id": "lLn5O5NQYNld"
      },
      "execution_count": 5,
      "outputs": []
    },
    {
      "cell_type": "code",
      "source": [
        "URLs.IMDB"
      ],
      "metadata": {
        "colab": {
          "base_uri": "https://localhost:8080/",
          "height": 35
        },
        "id": "o6QzWQMcYRWZ",
        "outputId": "fdd7ea2d-6335-458c-fc64-6e78ff2419b9"
      },
      "execution_count": 6,
      "outputs": [
        {
          "output_type": "execute_result",
          "data": {
            "text/plain": [
              "'https://s3.amazonaws.com/fast-ai-nlp/imdb.tgz'"
            ],
            "application/vnd.google.colaboratory.intrinsic+json": {
              "type": "string"
            }
          },
          "metadata": {},
          "execution_count": 6
        }
      ]
    },
    {
      "cell_type": "code",
      "source": [
        "path = untar_data(URLs.IMDB)\n",
        "path"
      ],
      "metadata": {
        "colab": {
          "base_uri": "https://localhost:8080/"
        },
        "id": "MSOFGLzhYXmB",
        "outputId": "1b6bc9f3-4a6d-4a57-b42d-88f9ac263d0d"
      },
      "execution_count": 7,
      "outputs": [
        {
          "output_type": "execute_result",
          "data": {
            "text/plain": [
              "Path('/root/.fastai/data/imdb')"
            ]
          },
          "metadata": {},
          "execution_count": 7
        }
      ]
    },
    {
      "cell_type": "code",
      "source": [
        "files = get_text_files(path, folders=['train', 'test', 'unsup'])\n",
        "files"
      ],
      "metadata": {
        "colab": {
          "base_uri": "https://localhost:8080/"
        },
        "id": "2kWc9U4IYpYw",
        "outputId": "79dab5cb-1a5c-421c-d6fd-a86744ed200f"
      },
      "execution_count": 8,
      "outputs": [
        {
          "output_type": "execute_result",
          "data": {
            "text/plain": [
              "(#100000) [Path('/root/.fastai/data/imdb/train/pos/5493_10.txt'),Path('/root/.fastai/data/imdb/train/pos/946_8.txt'),Path('/root/.fastai/data/imdb/train/pos/2033_8.txt'),Path('/root/.fastai/data/imdb/train/pos/496_10.txt'),Path('/root/.fastai/data/imdb/train/pos/7362_10.txt'),Path('/root/.fastai/data/imdb/train/pos/12169_7.txt'),Path('/root/.fastai/data/imdb/train/pos/9501_10.txt'),Path('/root/.fastai/data/imdb/train/pos/11909_7.txt'),Path('/root/.fastai/data/imdb/train/pos/4661_10.txt'),Path('/root/.fastai/data/imdb/train/pos/8842_9.txt')...]"
            ]
          },
          "metadata": {},
          "execution_count": 8
        }
      ]
    },
    {
      "cell_type": "code",
      "source": [
        "with open(files[0], 'r') as f:\n",
        "    txt = f.read()\n",
        "txt[:75]"
      ],
      "metadata": {
        "colab": {
          "base_uri": "https://localhost:8080/",
          "height": 35
        },
        "id": "3bNFZsZxYzIK",
        "outputId": "62a74e2a-06ca-4758-a8e8-f96f2b651cda"
      },
      "execution_count": 9,
      "outputs": [
        {
          "output_type": "execute_result",
          "data": {
            "text/plain": [
              "\"It's really rare that you get an inside view at a media deception that has \""
            ],
            "application/vnd.google.colaboratory.intrinsic+json": {
              "type": "string"
            }
          },
          "metadata": {},
          "execution_count": 9
        }
      ]
    },
    {
      "cell_type": "markdown",
      "metadata": {
        "id": "jLx_P_OgYBSL"
      },
      "source": [
        "---\n",
        "\n",
        "Demo of `coll_repr`:"
      ]
    },
    {
      "cell_type": "code",
      "source": [
        "x = list(range(10))\n",
        "x"
      ],
      "metadata": {
        "colab": {
          "base_uri": "https://localhost:8080/"
        },
        "id": "ym6dqbDEZPpz",
        "outputId": "50135aa8-4443-45ee-cc93-995242021a04"
      },
      "execution_count": 10,
      "outputs": [
        {
          "output_type": "execute_result",
          "data": {
            "text/plain": [
              "[0, 1, 2, 3, 4, 5, 6, 7, 8, 9]"
            ]
          },
          "metadata": {},
          "execution_count": 10
        }
      ]
    },
    {
      "cell_type": "code",
      "source": [
        "coll_repr(x, 3)"
      ],
      "metadata": {
        "colab": {
          "base_uri": "https://localhost:8080/",
          "height": 35
        },
        "id": "LoVXIzy-ZWmt",
        "outputId": "93149272-6b0a-49fd-b416-91c7455656bc"
      },
      "execution_count": 11,
      "outputs": [
        {
          "output_type": "execute_result",
          "data": {
            "text/plain": [
              "'(#10) [0,1,2...]'"
            ],
            "application/vnd.google.colaboratory.intrinsic+json": {
              "type": "string"
            }
          },
          "metadata": {},
          "execution_count": 11
        }
      ]
    },
    {
      "cell_type": "code",
      "source": [
        "coll_repr(x, 5)"
      ],
      "metadata": {
        "colab": {
          "base_uri": "https://localhost:8080/",
          "height": 35
        },
        "id": "UVw7P6qLZTeR",
        "outputId": "6e41ee4d-a88c-4bd4-d699-6f850267204c"
      },
      "execution_count": 12,
      "outputs": [
        {
          "output_type": "execute_result",
          "data": {
            "text/plain": [
              "'(#10) [0,1,2,3,4...]'"
            ],
            "application/vnd.google.colaboratory.intrinsic+json": {
              "type": "string"
            }
          },
          "metadata": {},
          "execution_count": 12
        }
      ]
    },
    {
      "cell_type": "code",
      "source": [
        "type(coll_repr(x, 5))"
      ],
      "metadata": {
        "colab": {
          "base_uri": "https://localhost:8080/"
        },
        "id": "MiJKhwsJZZLE",
        "outputId": "49301aae-1cf4-45db-d4e1-e22dc0304d77"
      },
      "execution_count": 13,
      "outputs": [
        {
          "output_type": "execute_result",
          "data": {
            "text/plain": [
              "str"
            ]
          },
          "metadata": {},
          "execution_count": 13
        }
      ]
    },
    {
      "cell_type": "code",
      "source": [
        "print(coll_repr(x, 5))"
      ],
      "metadata": {
        "colab": {
          "base_uri": "https://localhost:8080/"
        },
        "id": "eC7zDkOrZg2l",
        "outputId": "95e77ac8-e89e-464c-8981-8cc3ba5c3b32"
      },
      "execution_count": 14,
      "outputs": [
        {
          "output_type": "stream",
          "name": "stdout",
          "text": [
            "(#10) [0,1,2,3,4...]\n"
          ]
        }
      ]
    },
    {
      "cell_type": "markdown",
      "metadata": {
        "id": "9YEWdq2eYWEY"
      },
      "source": [
        "---"
      ]
    },
    {
      "cell_type": "code",
      "source": [
        "spacy = WordTokenizer()\n",
        "type(spacy)"
      ],
      "metadata": {
        "colab": {
          "base_uri": "https://localhost:8080/",
          "height": 121
        },
        "id": "r-Bh0Vb8aANP",
        "outputId": "3c882a37-bcb7-41cc-8c80-0ef43991f5d4"
      },
      "execution_count": 15,
      "outputs": [
        {
          "output_type": "execute_result",
          "data": {
            "text/plain": [
              "fastai.text.core.SpacyTokenizer"
            ],
            "text/html": [
              "<div style=\"max-width:800px; border: 1px solid var(--colab-border-color);\"><style>\n",
              "      pre.function-repr-contents {\n",
              "        overflow-x: auto;\n",
              "        padding: 8px 12px;\n",
              "        max-height: 500px;\n",
              "      }\n",
              "\n",
              "      pre.function-repr-contents.function-repr-contents-collapsed {\n",
              "        cursor: pointer;\n",
              "        max-height: 100px;\n",
              "      }\n",
              "    </style>\n",
              "    <pre style=\"white-space: initial; background:\n",
              "         var(--colab-secondary-surface-color); padding: 8px 12px;\n",
              "         border-bottom: 1px solid var(--colab-border-color);\"><b>fastai.text.core.SpacyTokenizer</b><br/>def __call__(items)</pre><pre class=\"function-repr-contents function-repr-contents-collapsed\" style=\"\"><a class=\"filepath\" style=\"display:none\" href=\"#\">/usr/local/lib/python3.10/dist-packages/fastai/text/core.py</a>Spacy tokenizer for `lang`</pre>\n",
              "      <script>\n",
              "      if (google.colab.kernel.accessAllowed && google.colab.files && google.colab.files.view) {\n",
              "        for (const element of document.querySelectorAll('.filepath')) {\n",
              "          element.style.display = 'block'\n",
              "          element.onclick = (event) => {\n",
              "            event.preventDefault();\n",
              "            event.stopPropagation();\n",
              "            google.colab.files.view(element.textContent, 113);\n",
              "          };\n",
              "        }\n",
              "      }\n",
              "      for (const element of document.querySelectorAll('.function-repr-contents')) {\n",
              "        element.onclick = (event) => {\n",
              "          event.preventDefault();\n",
              "          event.stopPropagation();\n",
              "          element.classList.toggle('function-repr-contents-collapsed');\n",
              "        };\n",
              "      }\n",
              "      </script>\n",
              "      </div>"
            ]
          },
          "metadata": {},
          "execution_count": 15
        }
      ]
    },
    {
      "cell_type": "code",
      "source": [
        "type(spacy([txt]))"
      ],
      "metadata": {
        "colab": {
          "base_uri": "https://localhost:8080/"
        },
        "id": "rirXqoVMaH4I",
        "outputId": "407f5075-9417-4019-ccc8-bfe5b334e391"
      },
      "execution_count": 16,
      "outputs": [
        {
          "output_type": "execute_result",
          "data": {
            "text/plain": [
              "generator"
            ]
          },
          "metadata": {},
          "execution_count": 16
        }
      ]
    },
    {
      "cell_type": "markdown",
      "source": [
        "**Note:** The generator generates a list of tokens for each string. If we pass a list with more than one string, then we'll get back more than one list."
      ],
      "metadata": {
        "id": "8kaHVkR7GBeY"
      }
    },
    {
      "cell_type": "code",
      "source": [
        "help(first)"
      ],
      "metadata": {
        "colab": {
          "base_uri": "https://localhost:8080/"
        },
        "id": "bWPPFY68aZUH",
        "outputId": "5a33c237-7752-470d-fb8d-3be555de8fd1"
      },
      "execution_count": 17,
      "outputs": [
        {
          "output_type": "stream",
          "name": "stdout",
          "text": [
            "Help on function first in module fastcore.basics:\n",
            "\n",
            "first(x, f=None, negate=False, **kwargs)\n",
            "    First element of `x`, optionally filtered by `f`, or None if missing\n",
            "\n"
          ]
        }
      ]
    },
    {
      "cell_type": "code",
      "source": [
        "toks = first(spacy([txt]))\n",
        "print(coll_repr(toks, 30))"
      ],
      "metadata": {
        "colab": {
          "base_uri": "https://localhost:8080/"
        },
        "id": "aaqw3693adUL",
        "outputId": "55487876-841f-4e42-d7c7-a93a6528a5cb"
      },
      "execution_count": 18,
      "outputs": [
        {
          "output_type": "stream",
          "name": "stdout",
          "text": [
            "(#464) ['It',\"'s\",'really','rare','that','you','get','an','inside','view','at','a','media','deception','that','has','been','so','widely','reported','as','official','\"','truth','\"','and','caught','so','many','\"'...]\n"
          ]
        }
      ]
    },
    {
      "cell_type": "code",
      "source": [
        "first(spacy(['The U.S. dollar $1 is $1.00.']))"
      ],
      "metadata": {
        "colab": {
          "base_uri": "https://localhost:8080/"
        },
        "id": "TKqUzrseao5U",
        "outputId": "184e7a35-f9b8-40e4-f0b2-04a867abfee8"
      },
      "execution_count": 19,
      "outputs": [
        {
          "output_type": "execute_result",
          "data": {
            "text/plain": [
              "(#9) ['The','U.S.','dollar','$','1','is','$','1.00','.']"
            ]
          },
          "metadata": {},
          "execution_count": 19
        }
      ]
    },
    {
      "cell_type": "code",
      "source": [
        "tkn = Tokenizer(spacy)\n",
        "type(tkn)"
      ],
      "metadata": {
        "colab": {
          "base_uri": "https://localhost:8080/",
          "height": 136
        },
        "id": "nLQLDOtnbCKz",
        "outputId": "46dc86f1-5e76-4fbb-998b-81b0c2d88b6b"
      },
      "execution_count": 20,
      "outputs": [
        {
          "output_type": "execute_result",
          "data": {
            "text/plain": [
              "fastai.text.core.Tokenizer"
            ],
            "text/html": [
              "<div style=\"max-width:800px; border: 1px solid var(--colab-border-color);\"><style>\n",
              "      pre.function-repr-contents {\n",
              "        overflow-x: auto;\n",
              "        padding: 8px 12px;\n",
              "        max-height: 500px;\n",
              "      }\n",
              "\n",
              "      pre.function-repr-contents.function-repr-contents-collapsed {\n",
              "        cursor: pointer;\n",
              "        max-height: 100px;\n",
              "      }\n",
              "    </style>\n",
              "    <pre style=\"white-space: initial; background:\n",
              "         var(--colab-secondary-surface-color); padding: 8px 12px;\n",
              "         border-bottom: 1px solid var(--colab-border-color);\"><b>fastai.text.core.Tokenizer</b><br/>def __call__(x, **kwargs)</pre><pre class=\"function-repr-contents function-repr-contents-collapsed\" style=\"\"><a class=\"filepath\" style=\"display:none\" href=\"#\">/usr/local/lib/python3.10/dist-packages/fastai/text/core.py</a>Provides a consistent `Transform` interface to tokenizers operating on `DataFrame`s and folders</pre>\n",
              "      <script>\n",
              "      if (google.colab.kernel.accessAllowed && google.colab.files && google.colab.files.view) {\n",
              "        for (const element of document.querySelectorAll('.filepath')) {\n",
              "          element.style.display = 'block'\n",
              "          element.onclick = (event) => {\n",
              "            event.preventDefault();\n",
              "            event.stopPropagation();\n",
              "            google.colab.files.view(element.textContent, 257);\n",
              "          };\n",
              "        }\n",
              "      }\n",
              "      for (const element of document.querySelectorAll('.function-repr-contents')) {\n",
              "        element.onclick = (event) => {\n",
              "          event.preventDefault();\n",
              "          event.stopPropagation();\n",
              "          element.classList.toggle('function-repr-contents-collapsed');\n",
              "        };\n",
              "      }\n",
              "      </script>\n",
              "      </div>"
            ]
          },
          "metadata": {},
          "execution_count": 20
        }
      ]
    },
    {
      "cell_type": "code",
      "source": [
        "type(tkn(txt))"
      ],
      "metadata": {
        "colab": {
          "base_uri": "https://localhost:8080/",
          "height": 121
        },
        "id": "uio3tmFTbR8t",
        "outputId": "3bd055e9-0464-4670-93a0-f6f10007d063"
      },
      "execution_count": 21,
      "outputs": [
        {
          "output_type": "execute_result",
          "data": {
            "text/plain": [
              "fastcore.foundation.L"
            ],
            "text/html": [
              "<div style=\"max-width:800px; border: 1px solid var(--colab-border-color);\"><style>\n",
              "      pre.function-repr-contents {\n",
              "        overflow-x: auto;\n",
              "        padding: 8px 12px;\n",
              "        max-height: 500px;\n",
              "      }\n",
              "\n",
              "      pre.function-repr-contents.function-repr-contents-collapsed {\n",
              "        cursor: pointer;\n",
              "        max-height: 100px;\n",
              "      }\n",
              "    </style>\n",
              "    <pre style=\"white-space: initial; background:\n",
              "         var(--colab-secondary-surface-color); padding: 8px 12px;\n",
              "         border-bottom: 1px solid var(--colab-border-color);\"><b>fastcore.foundation.L</b><br/>def __call__(cls, x=None, *args, **kwargs)</pre><pre class=\"function-repr-contents function-repr-contents-collapsed\" style=\"\"><a class=\"filepath\" style=\"display:none\" href=\"#\">/usr/local/lib/python3.10/dist-packages/fastcore/foundation.py</a>Behaves like a list of `items` but can also index with list of indices or masks</pre>\n",
              "      <script>\n",
              "      if (google.colab.kernel.accessAllowed && google.colab.files && google.colab.files.view) {\n",
              "        for (const element of document.querySelectorAll('.filepath')) {\n",
              "          element.style.display = 'block'\n",
              "          element.onclick = (event) => {\n",
              "            event.preventDefault();\n",
              "            event.stopPropagation();\n",
              "            google.colab.files.view(element.textContent, 101);\n",
              "          };\n",
              "        }\n",
              "      }\n",
              "      for (const element of document.querySelectorAll('.function-repr-contents')) {\n",
              "        element.onclick = (event) => {\n",
              "          event.preventDefault();\n",
              "          event.stopPropagation();\n",
              "          element.classList.toggle('function-repr-contents-collapsed');\n",
              "        };\n",
              "      }\n",
              "      </script>\n",
              "      </div>"
            ]
          },
          "metadata": {},
          "execution_count": 21
        }
      ]
    },
    {
      "cell_type": "markdown",
      "metadata": {
        "id": "IbKr8_xtajNC"
      },
      "source": [
        "Notice two differences between `spacy` and `tkn`:\n",
        "\n",
        "1. `spacy` accepts a collection of strings, whereas `tkn` accepts a single string.\n",
        "2. `spacy` returns a generator, whereas `tkn` returns an `L` object."
      ]
    },
    {
      "cell_type": "code",
      "source": [
        "print(coll_repr(tkn(txt), 31))"
      ],
      "metadata": {
        "colab": {
          "base_uri": "https://localhost:8080/"
        },
        "id": "F7c4owV2baDz",
        "outputId": "ec2619b2-6748-45d1-bd8e-a8e4c68a0297"
      },
      "execution_count": 22,
      "outputs": [
        {
          "output_type": "stream",
          "name": "stdout",
          "text": [
            "(#521) ['xxbos','xxmaj','it',\"'s\",'really','rare','that','you','get','an','inside','view','at','a','media','deception','that','has','been','so','widely','reported','as','official','\"','truth','\"','and','caught','so','many'...]\n"
          ]
        }
      ]
    },
    {
      "cell_type": "code",
      "source": [
        "defaults.text_proc_rules"
      ],
      "metadata": {
        "colab": {
          "base_uri": "https://localhost:8080/"
        },
        "id": "fGp2EG5kblMt",
        "outputId": "14efaf6e-3677-4025-8202-3c2ee9298710"
      },
      "execution_count": 23,
      "outputs": [
        {
          "output_type": "execute_result",
          "data": {
            "text/plain": [
              "[<function fastai.text.core.fix_html(x)>,\n",
              " <function fastai.text.core.replace_rep(t)>,\n",
              " <function fastai.text.core.replace_wrep(t)>,\n",
              " <function fastai.text.core.spec_add_spaces(t)>,\n",
              " <function fastai.text.core.rm_useless_spaces(t)>,\n",
              " <function fastai.text.core.replace_all_caps(t)>,\n",
              " <function fastai.text.core.replace_maj(t)>,\n",
              " <function fastai.text.core.lowercase(t, add_bos=True, add_eos=False)>]"
            ]
          },
          "metadata": {},
          "execution_count": 23
        }
      ]
    },
    {
      "cell_type": "code",
      "source": [
        "??replace_rep"
      ],
      "metadata": {
        "id": "Wr2PIgMAcgAW"
      },
      "execution_count": 24,
      "outputs": []
    },
    {
      "cell_type": "code",
      "source": [
        "coll_repr(tkn('&copy;   Fast.ai www.fast.ai/INDEX'), 31)"
      ],
      "metadata": {
        "colab": {
          "base_uri": "https://localhost:8080/",
          "height": 35
        },
        "id": "IzmjcOTmdXdk",
        "outputId": "732a2a29-b7d3-4067-e19f-65f44d692c59"
      },
      "execution_count": 25,
      "outputs": [
        {
          "output_type": "execute_result",
          "data": {
            "text/plain": [
              "\"(#11) ['xxbos','©','xxmaj','fast.ai','xxrep','3','w','.fast.ai','/','xxup','index']\""
            ],
            "application/vnd.google.colaboratory.intrinsic+json": {
              "type": "string"
            }
          },
          "metadata": {},
          "execution_count": 25
        }
      ]
    },
    {
      "cell_type": "markdown",
      "metadata": {
        "id": "osGhHOS3Clxv"
      },
      "source": [
        "### Subword Tokenization"
      ]
    },
    {
      "cell_type": "code",
      "source": [
        "txts = []\n",
        "for o in files[:2000]:\n",
        "    with open(o, 'r') as f:\n",
        "        txts.append(f.read())\n",
        "txts = L(txts)\n",
        "txts"
      ],
      "metadata": {
        "colab": {
          "base_uri": "https://localhost:8080/"
        },
        "id": "H0CaRfSpec2p",
        "outputId": "07c0dc3f-5452-4c9f-ce9f-0049e138b003"
      },
      "execution_count": 26,
      "outputs": [
        {
          "output_type": "execute_result",
          "data": {
            "text/plain": [
              "(#2000) ['It\\'s really rare that you get an inside view at a media deception that has been so widely reported as official \"truth\" and caught so many \"news\" agencies with their pants down. This movie, in my view, deserves every price there is in journalism - it\\'s objective (yes!), courageous and a real \"scoop\". It can do without comment, fake scenes or leading questions - everyone, including Chavez equally gets to make fools of themselves in their own words. The filmmakers \"only\" had to keep track of events and keep their cameras rolling.<br /><br />The Venezuelan elite teaches us \"How to depose of a President and sell it as a victory of democracy\". It\\'s amazing that they lost in the end - so far. From what I know, the biggest TV station involved only got its terrestrial license revoked, they\\'re still broadcasting via cable and satellite. I highly doubt whether George W. or Barack Obama would be that tolerant after an attempted coup. But then, they don\\'t have to worry.<br /><br />The fact that the \"Chavez supporters shoot innocent civilians\" scam was so willingly repeated around the world reveals just how biased the so-called \"free\" (established) media really has become, or has always been, only more so. An important lesson to anyone interested in what \"really\" goes on in the world.<br /><br />The famous \"objectivity\" challenge always comes into play when journalists dare to oppose the mainstream view, or reveal unwelcome facts that accuse \"us\" - it has been true with the effects of the Atomic bomb, the US secret history of spreading \"democracy\" around the world or the Iraq war that, according to Johns Hopkins, has killed 1,3 million Iraquis by now, not to mention the 60,000 Afghans (in 2003) that are never mentioned. To be objective, Saddam Hussein was less damaging to his people than the US. And the US is ready & willing to be more damaging to the Iranians that he was.<br /><br />I\\'m quite curious about the upcoming trial of some Khmer Rouge leaders before the International Tribunal in The Hague, whether there will be any mention of \"our\" involvement in supporting and training Pol Pot\\'s guerrillas in the 80\\'s, when they had been largely defeated by the Vietnamese. Probably not.<br /><br />All the more reason to turn to the Independent media for balance, if not exposure of fraud.',\"As the celebration of Christmas has evolved through the years, whether one concentrates on the religious or the secular traditions, it is a time when people are supposed to behave a little better to each other. That has somehow slipped past one Ebenezer Scrooge, merchant and money lender in 19th century London.<br /><br />As his nephew points out to his uncle, he doesn't keep Christmas in any way because Scrooge feels the whole thing is humbug. The humanity in Scrooge was driven out long ago, he's a hard case, a whole lot like his 20th Century counterpart, Mr. Potter of Bedford Falls, New York.<br /><br />But as Charles Dickens told this tale, redemption is not too late for any of us and a lonely ghost and three spirits visit Scrooge and show him how.<br /><br />A Christmas Carol is such a timeless holiday classic that we sometimes forget that it is as much a social commentary of 19th century Great Britain as Oliver Twist was. The characters in this film are middle and lower class. The Cratchits are a couple of rungs above the street people in Oliver Twist, but they are having to struggle to stay up there. Still love and happiness radiate their home, no thanks to the guy Bob Cratchit works for. <br /><br />Like George Bailey who did a whole lot of good in his life and just had to be reminded how much, Ebenezer Scrooge needed a wake up call as to the potentiality he still had for doing some good in this old world.<br /><br />Patrick Stewart in his live performances and filmed play has pretty much taken over the part of Scrooge. But George C. Scott captures the old miser pretty well in this film. The meanness of him, but with a trace of sadness that makes us root for him to change. Scott joins a fine tradition of people like Reginald Owen and Alastair Sim who've both done great interpretations of Scrooge.<br /><br />Among the supporting roles I particularly enjoyed David Warner as Bob Cratchit and Edward Woodward as a hearty and stern spirit of Christmas present. <br /><br />According to IMDb this is one of 32 versions of A Christmas Carol made that they have archived and it is one of the best.\",\"Actually, the answer only occupies a tiny portion of this excellent Imax movie that educates us on our delicate selves. C.G. and special cameras--assisted by Imax--incredibly display the inner (and outer) workings of an average human, be it adult men and women, boys and girls, or babies. Nearly every human body part aspect is specifically detailed: digestion, reproduction (featuring a Marvin Gaye hit), the heart, etc. Some especially revealing moments include how an infant can be immersed underwater and also how the brain's impulses look. It is amazing how we function.<br /><br />The subject matter skips around an awful lot. But at all times we still learn a hell of a lot about our bodies that we should be *required* to know.\",'Enterprise is the entertainment, but it is also the forefront of Science Fiction and a positive outlook for tomorrow. With gratitude and respect Mr. Berman and Mr. Braga. I wish you well, thank you both for your service to Trek.<br /><br />Enterprise is what Trek is about...',\"What a fun filled, sexy movie! They certainly don't make them like this anymore. 4 sexy au pairs arrive in London and have all sorts of sexual misadventures. The tone is oddly innocent, as the considerable nudity evolves out of stock farcical situations, rather than any overt sexual desire on the part of the characters. It is only when the actresses accidentally lose their clothes that the male characters become rampant. Richard O' Sullivan literally gets 'Randi'(sic). The film certainly betrays the origins of the softcore feature as lying in the nudie cuties and naturism films of the old school. My special interest in 'Au Pair Girls' is that I am a huge fan of Gabrielle Drake. If any actress has ever looked better naked (she's slim but wonderfully curvy), or clothed, come to that (I've loved her since the original run of UFO - who else could carry off a purple wig!), I'll eat my hat.\",'On the night of his bachelor party, Paul Coleman (Jason Lee) meets the gorgeous dancer Becky (Julia Stiles) in the bar, they drink a lot together and in the next morning, he wakes up with her on the bed. His future mother-in-law calls him and informs that his fiancée Karen (Selma Blair) might be arriving in his apartment, and he desperately asks Becky to leave his place in a hurry. Sooner, he finds that her has crabs, and later, in the preparation of his wedding dinner party, he realizes that Becky is the cousin of Karen. This is the beginning of a very funny comedy, with hilarious situations. The first attraction of this movie certainly is the central trio of actresses and actor. Julia Stiles and Selma Blair, who are excellent actresses and extremely gorgeous, and Jason Lee, who is amazingly funny, have good performances. I laughed a lot along the story, but there are some scenes that are really hilarious. For example, when Paul finds Becky in his bed; when he finds her paints; his imagination in many situations; in the drugstore, trying to buy and get explanations about the crab medicine; most of the scenes of his neighbor, the minister; when Karen calls the department store; or when the police finds a suspect of assaulting Paul. I could number many other scenes, but better off the reader rent or buy this movie and have lots of fun. My vote is seven.<br /><br />Title (Brazil):\"Louco Por Elas\" (\"Crazy For Them\")','I had seen this movie when it got released, and when I was 12 years old :) And I still vividly recollect the wonderful scenes of how the hero/heroine escape every time when faced with danger :) And the best feature of the movie was the portrayal of the villain! I think many so-called action movies copied a lot many \"escape scenes\" from this movie!! And not only does it never impress me when I see such copying, it always increases my appreciation for this masterpiece! :) The lead actors have acted wonderfully. The slow and realistic development of the chemistry b/w the hero and heroine was extremely natural and wonderfully portrayed. As children, we felt that the love that developed b/w them was very natural :) The way they face and overcome all their trials and tribulations together was something that can make even kids realize the value of true love, sacrifice and caring. I recommend that every person see this movie when given a chance!! --Vijay.','A young woman (Jean Simmons) is convinced by her scheming and dangerous aunt (Sonia Dresdel) and uncle (Barry Jones) that she\\'s losing her mind and in very delicate condition that requires their supervision which turns out to be more like manipulation, as they try to keep her as far away from outside human contact as possible. The only other person she sees is the estate caretaker, a lascivious character played by Maxwell Reed, whose caught the wayward eye of the middle-aged aunt. All of this, the aunt and the caretaker, the butterfly expert uncle who has a serious underside to him, and the susceptible niece in the middle, would have made for a darker and more sinister film. As it is, a frame-up for a murder sends Trevor Howard (a fired government secret service agent who took a job at the estate cataloging butterflies) and Simmons across the countryside escaping police, catching headlines of \"Police Net Closing In\" over her front page photo, hopping on buses, and winding up in Liverpool, where they meet some wonderfully cast characters, and finally face down the greedy and murderous aunt and uncle.',\"I can only echo the praise of the other reviews here. It's a delightful film with a feelgood factor that it achieves without crossing the line into soppy sentimentality. Naturally sweet - no added sugar.<br /><br />One small point: it seems to me that the mild objections raised about Ustinov's character Pendelton being able to walk in and defeat the system security ignore the fact that Pendelton is clearly a genius/savant at this sort of thing. Yes, the film was pretty computer illiterate, but it did show Pendelton 'studying computers' at his flat, and I believe the implication was supposed to be that his gifts allowed him to simply engulf the whole subject, practically overnight.<br /><br />There were a few odd moments when it appeared in some scenes that Gnatpole was trying to test Pendelton's knowledge and call his bluff. I'm not sure whether we were supposed to believe that Pendelton cunningly weaselled his way out of these situations, or whether he was actually knowledgeable enough to pass the tests - it was a little unclear.<br /><br />Certainly he had to know enough to set up the dummy accounts. Presumably Wallach and Ustinov were relying on their own rather foggy notion of how computers worked in those days, and in order to understand in detail what they were getting at, it's necessary to know quite what their concept was. They knew there was something about 'procedures' which was important; they thought that the 'smart light' could actually control security, rather than just indicate its state; they thought that the (dumb) user terminal's features would strongly influence what could be done on the mainframe itself - though apart from things like graphics feature I don't see it meself.<br /><br />Mostly, I think they tried to avoid the subject of actual computer operations as far as they could, and they did that rather well. Allowing them a bit of artistic license, I don't think their efforts had any flaws worthy of note.<br /><br />CD\",'This intensely involving 2007 character-driven suspense drama is like a big, juicy piece of Shakespearean-level steak from a master filmmaker who knows how to draw out uncommonly ferocious, to-the-edge performances from his actors. Consider for starters - Henry Fonda\\'s lone dissenting juror in \"Twelve Angry Men\", Katharine Hepburn\\'s delusional Mary Tyrone in \"Long Day\\'s Journey Into Night\", Rod Steiger\\'s conflicted concentration camp survivor in \"The Pawnbroker\", William Holden\\'s wintry lion in \"Network\", and Paul Newman\\'s alcoholic lawyer in \"The Verdict\". The list encompasses some of the finest screen work of the past half-century, and you can safely add Philip Seymour Hoffman\\'s desperately controlling Andy Hanson to the ranks. At 83, director Sidney Lumet shows no signs of octogenarian fatigue, and in fact, he revels in the melodramatic turns of first-time screenwriter Kelly Masterson\\'s thickly plotted script.<br /><br />The scale of the story is deceptively small as it focuses on the moral compromises that unravel in a family where two brothers have become desperate for immediate cash. Woody Allen followed a similar fraternal dynamic in his last film, the oddly pinched \"Cassandra\\'s Dream\", but Lumet is neither pinched nor cautious in his fierce approach to this inescapable tale of ambiguity and deception. The plot revolves around a crime that was meant to be victimless. Embezzling funds from his real estate company\\'s payroll to keep his neglected wife Gina happy and to satisfy an expensive drug habit, smooth-talking Andy is about to be exposed in an IRS audit. Meanwhile, his younger brother Hank is a mass of post-divorce, codependent insecurities falling way behind in his alimony and child support payments.<br /><br />Andy concocts a supposedly foolproof plan to rob their parents\\' suburban jewelry store while neither of them is supposed to be there. The goal was for the brothers to collect the haul, and the parents to claim the insurance. Murphy\\'s Law intervenes in every possible way starting with Andy pressuring Hank to do the job himself. After some brotherly cajoling, Hank agrees to it, but too scared to do it alone, he recruits a reckless, gun-toting busboy to handle the robbery. By fate, the heist occurs on the one day that Andy and Hank\\'s mother is opening the shop, and things quickly spiral out of control from there. Although the back-and-forth storytelling technique is not new (for example, Alejandro González Iñárritu\\'s \"21 Grams\"), Masterson\\'s approach works effectively in delineating certain events from multiple perspectives so that you understand how each character is led to the repercussions of the unfortunate event.<br /><br />The acting is pitch-perfect starting with Hoffman\\'s riveting performance as Andy, a Machiavellian reptile whose cool exterior and innate amorality mask layers of resentment toward his family. I thought he was great in Tamara Jenkins\\' \"The Savages\", but he is even better here. Lumet even draws a solid performance from the usually insufferable Ethan Hawke as Hank, imbuing him with the emasculated weakness that informs his every ill-planned move. As their embattled father, Albert Finney acts with his typical late-career bluster, but he provides the necessary foundation for the Oedipal-level complexities. Marisa Tomei is a smart choice to play Gina, as the actress economically keys in on the responsive, watchful nature of a small but pivotal role. The estimable theater veteran Rosemary Harris (now better known as Peter Parker\\'s aunt in the \"Spider-Man\" trilogy) has precious little time as the mother, as does Amy Ryan as Hank\\'s bitter ex-wife.<br /><br />There are scenes that border on excessive, especially as the situation becomes increasingly desperate for the brothers, but the principals inject such energetic brio to them that the flourishes become forgivable. After the disappointment of the cartoonish \"Find Me Guilty\", it is refreshing to see Lumet in peak form here. The 2008 DVD offers terrifically informative commentary from Lumet, Hoffman and Hawke, all of whom converse with ease and insight throughout. Along with the original theatrical trailer, there is also a better-than-average 24-minute featurette, \"Directed by Sidney Lumet: How the Devil Was Made\", which features on-set footage and snippets of interviews with Lumet, two of the producers and the principal actors.'...]"
            ]
          },
          "metadata": {},
          "execution_count": 26
        }
      ]
    },
    {
      "cell_type": "code",
      "source": [
        "sp = SubwordTokenizer(vocab_sz=1000)\n",
        "type(sp)"
      ],
      "metadata": {
        "colab": {
          "base_uri": "https://localhost:8080/",
          "height": 121
        },
        "id": "DmGJhg3peuO1",
        "outputId": "e59219cc-304b-494c-8865-12849398c039"
      },
      "execution_count": 27,
      "outputs": [
        {
          "output_type": "execute_result",
          "data": {
            "text/plain": [
              "fastai.text.core.SentencePieceTokenizer"
            ],
            "text/html": [
              "<div style=\"max-width:800px; border: 1px solid var(--colab-border-color);\"><style>\n",
              "      pre.function-repr-contents {\n",
              "        overflow-x: auto;\n",
              "        padding: 8px 12px;\n",
              "        max-height: 500px;\n",
              "      }\n",
              "\n",
              "      pre.function-repr-contents.function-repr-contents-collapsed {\n",
              "        cursor: pointer;\n",
              "        max-height: 100px;\n",
              "      }\n",
              "    </style>\n",
              "    <pre style=\"white-space: initial; background:\n",
              "         var(--colab-secondary-surface-color); padding: 8px 12px;\n",
              "         border-bottom: 1px solid var(--colab-border-color);\"><b>fastai.text.core.SentencePieceTokenizer</b><br/>def __call__(items)</pre><pre class=\"function-repr-contents function-repr-contents-collapsed\" style=\"\"><a class=\"filepath\" style=\"display:none\" href=\"#\">/usr/local/lib/python3.10/dist-packages/fastai/text/core.py</a>SentencePiece tokenizer for `lang`</pre>\n",
              "      <script>\n",
              "      if (google.colab.kernel.accessAllowed && google.colab.files && google.colab.files.view) {\n",
              "        for (const element of document.querySelectorAll('.filepath')) {\n",
              "          element.style.display = 'block'\n",
              "          element.onclick = (event) => {\n",
              "            event.preventDefault();\n",
              "            event.stopPropagation();\n",
              "            google.colab.files.view(element.textContent, 321);\n",
              "          };\n",
              "        }\n",
              "      }\n",
              "      for (const element of document.querySelectorAll('.function-repr-contents')) {\n",
              "        element.onclick = (event) => {\n",
              "          event.preventDefault();\n",
              "          event.stopPropagation();\n",
              "          element.classList.toggle('function-repr-contents-collapsed');\n",
              "        };\n",
              "      }\n",
              "      </script>\n",
              "      </div>"
            ]
          },
          "metadata": {},
          "execution_count": 27
        }
      ]
    },
    {
      "cell_type": "markdown",
      "source": [
        "Recall that SentencePiece is a common choice is multi-lingual models (such as XLMRoBERTa)."
      ],
      "metadata": {
        "id": "LUymjMzUfKNJ"
      }
    },
    {
      "cell_type": "code",
      "source": [
        "sp.setup(txts)"
      ],
      "metadata": {
        "colab": {
          "base_uri": "https://localhost:8080/",
          "height": 34
        },
        "id": "XXCtlRs4fAYD",
        "outputId": "dc035e52-73d5-4216-f018-2951ccd2902a"
      },
      "execution_count": 28,
      "outputs": [
        {
          "output_type": "display_data",
          "data": {
            "text/plain": [
              "<IPython.core.display.HTML object>"
            ],
            "text/html": [
              "\n",
              "<style>\n",
              "    /* Turns off some styling */\n",
              "    progress {\n",
              "        /* gets rid of default border in Firefox and Opera. */\n",
              "        border: none;\n",
              "        /* Needs to be in here for Safari polyfill so background images work as expected. */\n",
              "        background-size: auto;\n",
              "    }\n",
              "    progress:not([value]), progress:not([value])::-webkit-progress-bar {\n",
              "        background: repeating-linear-gradient(45deg, #7e7e7e, #7e7e7e 10px, #5c5c5c 10px, #5c5c5c 20px);\n",
              "    }\n",
              "    .progress-bar-interrupted, .progress-bar-interrupted::-webkit-progress-bar {\n",
              "        background: #F44336;\n",
              "    }\n",
              "</style>\n"
            ]
          },
          "metadata": {}
        },
        {
          "output_type": "display_data",
          "data": {
            "text/plain": [
              "<IPython.core.display.HTML object>"
            ],
            "text/html": []
          },
          "metadata": {}
        },
        {
          "output_type": "execute_result",
          "data": {
            "text/plain": [
              "{'sp_model': Path('tmp/spm.model')}"
            ]
          },
          "metadata": {},
          "execution_count": 28
        }
      ]
    },
    {
      "cell_type": "markdown",
      "metadata": {
        "id": "ktK4KksTMsw0"
      },
      "source": [
        "**Note:** We're passing in a list of strings to `setup`."
      ]
    },
    {
      "cell_type": "code",
      "source": [
        "type(sp([txt]))"
      ],
      "metadata": {
        "colab": {
          "base_uri": "https://localhost:8080/"
        },
        "id": "cjbcAbyhfXkh",
        "outputId": "faa56b0a-fafc-4544-d284-d2e8dde70f4b"
      },
      "execution_count": 29,
      "outputs": [
        {
          "output_type": "execute_result",
          "data": {
            "text/plain": [
              "generator"
            ]
          },
          "metadata": {},
          "execution_count": 29
        }
      ]
    },
    {
      "cell_type": "code",
      "source": [
        "toks = first(sp([txt]))\n",
        "print(coll_repr(toks, 40))"
      ],
      "metadata": {
        "colab": {
          "base_uri": "https://localhost:8080/"
        },
        "id": "LmDJeUZzfc0S",
        "outputId": "1ba39532-2b34-419c-e976-fe7cc096c6ab"
      },
      "execution_count": 30,
      "outputs": [
        {
          "output_type": "stream",
          "name": "stdout",
          "text": [
            "(#875) ['▁It',\"'\",'s','▁really','▁','ra','re','▁that','▁you','▁get','▁an','▁in','side','▁view','▁at','▁a','▁me','d','ia','▁de','ce','p','tion','▁that','▁has','▁been','▁so','▁w','id','e','ly','▁re','port','ed','▁as','▁off','ic','i','al','▁\"'...]\n"
          ]
        }
      ]
    },
    {
      "cell_type": "code",
      "source": [
        "def subword(sz):\n",
        "    sp = SubwordTokenizer(vocab_sz=sz)\n",
        "    sp.setup(txts)\n",
        "    return ' '.join(first(sp([txt]))[:40])"
      ],
      "metadata": {
        "id": "FhNL24qpfouD"
      },
      "execution_count": 31,
      "outputs": []
    },
    {
      "cell_type": "code",
      "source": [
        "subword(1000)"
      ],
      "metadata": {
        "colab": {
          "base_uri": "https://localhost:8080/",
          "height": 35
        },
        "id": "UoClw5kUgC_v",
        "outputId": "4cd2a7fb-6062-453f-9c42-963ab997d82a"
      },
      "execution_count": 32,
      "outputs": [
        {
          "output_type": "display_data",
          "data": {
            "text/plain": [
              "<IPython.core.display.HTML object>"
            ],
            "text/html": [
              "\n",
              "<style>\n",
              "    /* Turns off some styling */\n",
              "    progress {\n",
              "        /* gets rid of default border in Firefox and Opera. */\n",
              "        border: none;\n",
              "        /* Needs to be in here for Safari polyfill so background images work as expected. */\n",
              "        background-size: auto;\n",
              "    }\n",
              "    progress:not([value]), progress:not([value])::-webkit-progress-bar {\n",
              "        background: repeating-linear-gradient(45deg, #7e7e7e, #7e7e7e 10px, #5c5c5c 10px, #5c5c5c 20px);\n",
              "    }\n",
              "    .progress-bar-interrupted, .progress-bar-interrupted::-webkit-progress-bar {\n",
              "        background: #F44336;\n",
              "    }\n",
              "</style>\n"
            ]
          },
          "metadata": {}
        },
        {
          "output_type": "display_data",
          "data": {
            "text/plain": [
              "<IPython.core.display.HTML object>"
            ],
            "text/html": []
          },
          "metadata": {}
        },
        {
          "output_type": "execute_result",
          "data": {
            "text/plain": [
              "'▁It \\' s ▁really ▁ ra re ▁that ▁you ▁get ▁an ▁in side ▁view ▁at ▁a ▁me d ia ▁de ce p tion ▁that ▁has ▁been ▁so ▁w id e ly ▁re port ed ▁as ▁off ic i al ▁\"'"
            ],
            "application/vnd.google.colaboratory.intrinsic+json": {
              "type": "string"
            }
          },
          "metadata": {},
          "execution_count": 32
        }
      ]
    },
    {
      "cell_type": "code",
      "source": [
        "subword(200)"
      ],
      "metadata": {
        "colab": {
          "base_uri": "https://localhost:8080/",
          "height": 35
        },
        "id": "u-52ipuMgNcr",
        "outputId": "f8bd2efa-b0ae-4ace-e4c2-7eb5ab2b3c75"
      },
      "execution_count": 33,
      "outputs": [
        {
          "output_type": "display_data",
          "data": {
            "text/plain": [
              "<IPython.core.display.HTML object>"
            ],
            "text/html": [
              "\n",
              "<style>\n",
              "    /* Turns off some styling */\n",
              "    progress {\n",
              "        /* gets rid of default border in Firefox and Opera. */\n",
              "        border: none;\n",
              "        /* Needs to be in here for Safari polyfill so background images work as expected. */\n",
              "        background-size: auto;\n",
              "    }\n",
              "    progress:not([value]), progress:not([value])::-webkit-progress-bar {\n",
              "        background: repeating-linear-gradient(45deg, #7e7e7e, #7e7e7e 10px, #5c5c5c 10px, #5c5c5c 20px);\n",
              "    }\n",
              "    .progress-bar-interrupted, .progress-bar-interrupted::-webkit-progress-bar {\n",
              "        background: #F44336;\n",
              "    }\n",
              "</style>\n"
            ]
          },
          "metadata": {}
        },
        {
          "output_type": "display_data",
          "data": {
            "text/plain": [
              "<IPython.core.display.HTML object>"
            ],
            "text/html": []
          },
          "metadata": {}
        },
        {
          "output_type": "execute_result",
          "data": {
            "text/plain": [
              "\"▁I t ' s ▁re al ly ▁ ra re ▁that ▁you ▁ g e t ▁ an ▁in s i d e ▁ v i e w ▁a t ▁a ▁ m ed i a ▁ d e ce\""
            ],
            "application/vnd.google.colaboratory.intrinsic+json": {
              "type": "string"
            }
          },
          "metadata": {},
          "execution_count": 33
        }
      ]
    },
    {
      "cell_type": "code",
      "source": [
        "subword(10000)"
      ],
      "metadata": {
        "colab": {
          "base_uri": "https://localhost:8080/",
          "height": 35
        },
        "id": "_KF-jNdpgXLO",
        "outputId": "18c3a802-6be2-4444-b0df-3a6a923274a8"
      },
      "execution_count": 34,
      "outputs": [
        {
          "output_type": "display_data",
          "data": {
            "text/plain": [
              "<IPython.core.display.HTML object>"
            ],
            "text/html": [
              "\n",
              "<style>\n",
              "    /* Turns off some styling */\n",
              "    progress {\n",
              "        /* gets rid of default border in Firefox and Opera. */\n",
              "        border: none;\n",
              "        /* Needs to be in here for Safari polyfill so background images work as expected. */\n",
              "        background-size: auto;\n",
              "    }\n",
              "    progress:not([value]), progress:not([value])::-webkit-progress-bar {\n",
              "        background: repeating-linear-gradient(45deg, #7e7e7e, #7e7e7e 10px, #5c5c5c 10px, #5c5c5c 20px);\n",
              "    }\n",
              "    .progress-bar-interrupted, .progress-bar-interrupted::-webkit-progress-bar {\n",
              "        background: #F44336;\n",
              "    }\n",
              "</style>\n"
            ]
          },
          "metadata": {}
        },
        {
          "output_type": "display_data",
          "data": {
            "text/plain": [
              "<IPython.core.display.HTML object>"
            ],
            "text/html": []
          },
          "metadata": {}
        },
        {
          "output_type": "execute_result",
          "data": {
            "text/plain": [
              "'▁It \\' s ▁really ▁rare ▁that ▁you ▁get ▁an ▁inside ▁view ▁at ▁a ▁media ▁de ce p tion ▁that ▁has ▁been ▁so ▁widely ▁report ed ▁as ▁official ▁\" t ru th \" ▁and ▁caught ▁so ▁many ▁\" new s \"'"
            ],
            "application/vnd.google.colaboratory.intrinsic+json": {
              "type": "string"
            }
          },
          "metadata": {},
          "execution_count": 34
        }
      ]
    },
    {
      "cell_type": "markdown",
      "metadata": {
        "id": "bPFWk7UOClxx"
      },
      "source": [
        "### Numericalization with fastai"
      ]
    },
    {
      "cell_type": "code",
      "source": [
        "toks = tkn(txt)\n",
        "print(coll_repr(toks, 31))"
      ],
      "metadata": {
        "colab": {
          "base_uri": "https://localhost:8080/"
        },
        "id": "kdEEZfN8RQ0e",
        "outputId": "b22c4064-5270-4326-ddb2-8481f1b02759"
      },
      "execution_count": 35,
      "outputs": [
        {
          "output_type": "stream",
          "name": "stdout",
          "text": [
            "(#521) ['xxbos','xxmaj','it',\"'s\",'really','rare','that','you','get','an','inside','view','at','a','media','deception','that','has','been','so','widely','reported','as','official','\"','truth','\"','and','caught','so','many'...]\n"
          ]
        }
      ]
    },
    {
      "cell_type": "code",
      "source": [
        "# Reminder:\n",
        "type(txts), len(txts)"
      ],
      "metadata": {
        "colab": {
          "base_uri": "https://localhost:8080/"
        },
        "id": "IXgdYdfLRWPC",
        "outputId": "ff400dff-99dc-4bd3-9a7d-5013e01119f2"
      },
      "execution_count": 36,
      "outputs": [
        {
          "output_type": "execute_result",
          "data": {
            "text/plain": [
              "(fastcore.foundation.L, 2000)"
            ]
          },
          "metadata": {},
          "execution_count": 36
        }
      ]
    },
    {
      "cell_type": "code",
      "source": [
        "toks200 = txts[:200].map(tkn)\n",
        "toks200[0]"
      ],
      "metadata": {
        "colab": {
          "base_uri": "https://localhost:8080/"
        },
        "id": "6UmT3gKtRt1t",
        "outputId": "fa02d3dc-24ca-42f5-a3c4-d4f80f33a37e"
      },
      "execution_count": 37,
      "outputs": [
        {
          "output_type": "execute_result",
          "data": {
            "text/plain": [
              "(#521) ['xxbos','xxmaj','it',\"'s\",'really','rare','that','you','get','an'...]"
            ]
          },
          "metadata": {},
          "execution_count": 37
        }
      ]
    },
    {
      "cell_type": "code",
      "source": [
        "num = Numericalize()\n",
        "type(num)"
      ],
      "metadata": {
        "colab": {
          "base_uri": "https://localhost:8080/",
          "height": 121
        },
        "id": "Gdfyqo_BR1re",
        "outputId": "803bb904-9cf7-4639-f4de-1706490dad72"
      },
      "execution_count": 38,
      "outputs": [
        {
          "output_type": "execute_result",
          "data": {
            "text/plain": [
              "fastai.text.data.Numericalize"
            ],
            "text/html": [
              "<div style=\"max-width:800px; border: 1px solid var(--colab-border-color);\"><style>\n",
              "      pre.function-repr-contents {\n",
              "        overflow-x: auto;\n",
              "        padding: 8px 12px;\n",
              "        max-height: 500px;\n",
              "      }\n",
              "\n",
              "      pre.function-repr-contents.function-repr-contents-collapsed {\n",
              "        cursor: pointer;\n",
              "        max-height: 100px;\n",
              "      }\n",
              "    </style>\n",
              "    <pre style=\"white-space: initial; background:\n",
              "         var(--colab-secondary-surface-color); padding: 8px 12px;\n",
              "         border-bottom: 1px solid var(--colab-border-color);\"><b>fastai.text.data.Numericalize</b><br/>def __call__(x, **kwargs)</pre><pre class=\"function-repr-contents function-repr-contents-collapsed\" style=\"\"><a class=\"filepath\" style=\"display:none\" href=\"#\">/usr/local/lib/python3.10/dist-packages/fastai/text/data.py</a>Reversible transform of tokenized texts to numericalized ids</pre>\n",
              "      <script>\n",
              "      if (google.colab.kernel.accessAllowed && google.colab.files && google.colab.files.view) {\n",
              "        for (const element of document.querySelectorAll('.filepath')) {\n",
              "          element.style.display = 'block'\n",
              "          element.onclick = (event) => {\n",
              "            event.preventDefault();\n",
              "            event.stopPropagation();\n",
              "            google.colab.files.view(element.textContent, 35);\n",
              "          };\n",
              "        }\n",
              "      }\n",
              "      for (const element of document.querySelectorAll('.function-repr-contents')) {\n",
              "        element.onclick = (event) => {\n",
              "          event.preventDefault();\n",
              "          event.stopPropagation();\n",
              "          element.classList.toggle('function-repr-contents-collapsed');\n",
              "        };\n",
              "      }\n",
              "      </script>\n",
              "      </div>"
            ]
          },
          "metadata": {},
          "execution_count": 38
        }
      ]
    },
    {
      "cell_type": "markdown",
      "source": [
        "**Note:** When instantiating `Numericalize`, we can specify `min_freq` and `max_vocab`. The reason is that the spaCy tokenizer doesn't create a vocab with a fixed number of tokens. It also doesn't set a minimum frequency. But SentencePiece has a fixed vocabulary size!"
      ],
      "metadata": {
        "id": "vm5fDDvNf46q"
      }
    },
    {
      "cell_type": "code",
      "source": [
        "num.setup(toks200)"
      ],
      "metadata": {
        "id": "PoPWoDe8SJSY"
      },
      "execution_count": 39,
      "outputs": []
    },
    {
      "cell_type": "markdown",
      "metadata": {
        "id": "mmzWgtUeNAnV"
      },
      "source": [
        "**Note:** We're passing in a list of lists of tokens to `setup`."
      ]
    },
    {
      "cell_type": "code",
      "source": [
        "type(num.vocab), len(num.vocab)"
      ],
      "metadata": {
        "colab": {
          "base_uri": "https://localhost:8080/"
        },
        "id": "b-dXyhHjSNtq",
        "outputId": "8a291372-9222-41c3-8dd5-f59eca727d45"
      },
      "execution_count": 40,
      "outputs": [
        {
          "output_type": "execute_result",
          "data": {
            "text/plain": [
              "(list, 2320)"
            ]
          },
          "metadata": {},
          "execution_count": 40
        }
      ]
    },
    {
      "cell_type": "markdown",
      "source": [
        "The length of the vocab is less because we only used 200 texts to set it up."
      ],
      "metadata": {
        "id": "LpOTBhA9SaIF"
      }
    },
    {
      "cell_type": "code",
      "source": [
        "coll_repr(num.vocab, 20)"
      ],
      "metadata": {
        "colab": {
          "base_uri": "https://localhost:8080/",
          "height": 35
        },
        "id": "uENULKqRSjW_",
        "outputId": "44cac3d3-a956-4cae-ad81-c873e7f812c5"
      },
      "execution_count": 41,
      "outputs": [
        {
          "output_type": "execute_result",
          "data": {
            "text/plain": [
              "\"(#2320) ['xxunk','xxpad','xxbos','xxeos','xxfld','xxrep','xxwrep','xxup','xxmaj','the',',','.','and','a','of','to','is','in','it','that'...]\""
            ],
            "application/vnd.google.colaboratory.intrinsic+json": {
              "type": "string"
            }
          },
          "metadata": {},
          "execution_count": 41
        }
      ]
    },
    {
      "cell_type": "code",
      "source": [
        "nums = num(toks)[:20]\n",
        "nums"
      ],
      "metadata": {
        "colab": {
          "base_uri": "https://localhost:8080/"
        },
        "id": "ONQuBFWYTkob",
        "outputId": "a836cf60-8c52-41d5-c17c-4b23f0d51308"
      },
      "execution_count": 42,
      "outputs": [
        {
          "output_type": "execute_result",
          "data": {
            "text/plain": [
              "TensorText([   2,    8,   18,   22,  100,  908,   19,   38,  114,   47,  787,  389,   48,   13, 1072,    0,   19,   54,  117,   52])"
            ]
          },
          "metadata": {},
          "execution_count": 42
        }
      ]
    },
    {
      "cell_type": "code",
      "source": [
        "' '.join(num.vocab[o] for o in nums)"
      ],
      "metadata": {
        "colab": {
          "base_uri": "https://localhost:8080/",
          "height": 35
        },
        "id": "Dvuy8Sd0TooS",
        "outputId": "a6e969d5-bdcb-4051-bdaa-c1c9a5086262"
      },
      "execution_count": 43,
      "outputs": [
        {
          "output_type": "execute_result",
          "data": {
            "text/plain": [
              "\"xxbos xxmaj it 's really rare that you get an inside view at a media xxunk that has been so\""
            ],
            "application/vnd.google.colaboratory.intrinsic+json": {
              "type": "string"
            }
          },
          "metadata": {},
          "execution_count": 43
        }
      ]
    },
    {
      "cell_type": "markdown",
      "metadata": {
        "id": "NiygXiOXClxz"
      },
      "source": [
        "### Putting Our Texts into Batches for a Language Model"
      ]
    },
    {
      "cell_type": "code",
      "execution_count": 44,
      "metadata": {
        "id": "jF2lYmbfClxz",
        "colab": {
          "base_uri": "https://localhost:8080/",
          "height": 205
        },
        "outputId": "3ae80a9a-15cd-4bee-ee3a-754f24f82a6c"
      },
      "outputs": [
        {
          "output_type": "display_data",
          "data": {
            "text/plain": [
              "<IPython.core.display.HTML object>"
            ],
            "text/html": [
              "<table border=\"1\" class=\"dataframe\">\n",
              "  <tbody>\n",
              "    <tr>\n",
              "      <td>xxbos</td>\n",
              "      <td>xxmaj</td>\n",
              "      <td>in</td>\n",
              "      <td>this</td>\n",
              "      <td>chapter</td>\n",
              "      <td>,</td>\n",
              "      <td>we</td>\n",
              "      <td>will</td>\n",
              "      <td>go</td>\n",
              "      <td>back</td>\n",
              "      <td>over</td>\n",
              "      <td>the</td>\n",
              "      <td>example</td>\n",
              "      <td>of</td>\n",
              "      <td>classifying</td>\n",
              "    </tr>\n",
              "    <tr>\n",
              "      <td>movie</td>\n",
              "      <td>reviews</td>\n",
              "      <td>we</td>\n",
              "      <td>studied</td>\n",
              "      <td>in</td>\n",
              "      <td>chapter</td>\n",
              "      <td>1</td>\n",
              "      <td>and</td>\n",
              "      <td>dig</td>\n",
              "      <td>deeper</td>\n",
              "      <td>under</td>\n",
              "      <td>the</td>\n",
              "      <td>surface</td>\n",
              "      <td>.</td>\n",
              "      <td>xxmaj</td>\n",
              "    </tr>\n",
              "    <tr>\n",
              "      <td>first</td>\n",
              "      <td>we</td>\n",
              "      <td>will</td>\n",
              "      <td>look</td>\n",
              "      <td>at</td>\n",
              "      <td>the</td>\n",
              "      <td>processing</td>\n",
              "      <td>steps</td>\n",
              "      <td>necessary</td>\n",
              "      <td>to</td>\n",
              "      <td>convert</td>\n",
              "      <td>text</td>\n",
              "      <td>into</td>\n",
              "      <td>numbers</td>\n",
              "      <td>and</td>\n",
              "    </tr>\n",
              "    <tr>\n",
              "      <td>how</td>\n",
              "      <td>to</td>\n",
              "      <td>customize</td>\n",
              "      <td>it</td>\n",
              "      <td>.</td>\n",
              "      <td>xxmaj</td>\n",
              "      <td>by</td>\n",
              "      <td>doing</td>\n",
              "      <td>this</td>\n",
              "      <td>,</td>\n",
              "      <td>we</td>\n",
              "      <td>'ll</td>\n",
              "      <td>have</td>\n",
              "      <td>another</td>\n",
              "      <td>example</td>\n",
              "    </tr>\n",
              "    <tr>\n",
              "      <td>of</td>\n",
              "      <td>the</td>\n",
              "      <td>preprocessor</td>\n",
              "      <td>used</td>\n",
              "      <td>in</td>\n",
              "      <td>the</td>\n",
              "      <td>data</td>\n",
              "      <td>block</td>\n",
              "      <td>xxup</td>\n",
              "      <td>api</td>\n",
              "      <td>.</td>\n",
              "      <td>\\n</td>\n",
              "      <td>xxmaj</td>\n",
              "      <td>then</td>\n",
              "      <td>we</td>\n",
              "    </tr>\n",
              "    <tr>\n",
              "      <td>will</td>\n",
              "      <td>study</td>\n",
              "      <td>how</td>\n",
              "      <td>we</td>\n",
              "      <td>build</td>\n",
              "      <td>a</td>\n",
              "      <td>language</td>\n",
              "      <td>model</td>\n",
              "      <td>and</td>\n",
              "      <td>train</td>\n",
              "      <td>it</td>\n",
              "      <td>for</td>\n",
              "      <td>a</td>\n",
              "      <td>while</td>\n",
              "      <td>.</td>\n",
              "    </tr>\n",
              "  </tbody>\n",
              "</table>"
            ]
          },
          "metadata": {}
        }
      ],
      "source": [
        "# Just run:\n",
        "stream = \"In this chapter, we will go back over the example of classifying movie reviews we studied in chapter 1 and dig deeper under the surface. First we will look at the processing steps necessary to convert text into numbers and how to customize it. By doing this, we'll have another example of the PreProcessor used in the data block API.\\nThen we will study how we build a language model and train it for a while.\"\n",
        "tokens = tkn(stream)\n",
        "bs,seq_len = 6,15\n",
        "d_tokens = np.array([tokens[i*seq_len:(i+1)*seq_len] for i in range(bs)])\n",
        "df = pd.DataFrame(d_tokens)\n",
        "display(HTML(df.to_html(index=False,header=None)))"
      ]
    },
    {
      "cell_type": "code",
      "execution_count": 45,
      "metadata": {
        "id": "TzDY_SEuClxz",
        "colab": {
          "base_uri": "https://localhost:8080/",
          "height": 205
        },
        "outputId": "4a7f276b-54fb-41cf-bef9-66cee3f7dc9e"
      },
      "outputs": [
        {
          "output_type": "display_data",
          "data": {
            "text/plain": [
              "<IPython.core.display.HTML object>"
            ],
            "text/html": [
              "<table border=\"1\" class=\"dataframe\">\n",
              "  <tbody>\n",
              "    <tr>\n",
              "      <td>xxbos</td>\n",
              "      <td>xxmaj</td>\n",
              "      <td>in</td>\n",
              "      <td>this</td>\n",
              "      <td>chapter</td>\n",
              "    </tr>\n",
              "    <tr>\n",
              "      <td>movie</td>\n",
              "      <td>reviews</td>\n",
              "      <td>we</td>\n",
              "      <td>studied</td>\n",
              "      <td>in</td>\n",
              "    </tr>\n",
              "    <tr>\n",
              "      <td>first</td>\n",
              "      <td>we</td>\n",
              "      <td>will</td>\n",
              "      <td>look</td>\n",
              "      <td>at</td>\n",
              "    </tr>\n",
              "    <tr>\n",
              "      <td>how</td>\n",
              "      <td>to</td>\n",
              "      <td>customize</td>\n",
              "      <td>it</td>\n",
              "      <td>.</td>\n",
              "    </tr>\n",
              "    <tr>\n",
              "      <td>of</td>\n",
              "      <td>the</td>\n",
              "      <td>preprocessor</td>\n",
              "      <td>used</td>\n",
              "      <td>in</td>\n",
              "    </tr>\n",
              "    <tr>\n",
              "      <td>will</td>\n",
              "      <td>study</td>\n",
              "      <td>how</td>\n",
              "      <td>we</td>\n",
              "      <td>build</td>\n",
              "    </tr>\n",
              "  </tbody>\n",
              "</table>"
            ]
          },
          "metadata": {}
        }
      ],
      "source": [
        "# Just run:\n",
        "bs,seq_len = 6,5\n",
        "d_tokens = np.array([tokens[i*15:i*15+seq_len] for i in range(bs)])\n",
        "df = pd.DataFrame(d_tokens)\n",
        "display(HTML(df.to_html(index=False,header=None)))"
      ]
    },
    {
      "cell_type": "code",
      "execution_count": 46,
      "metadata": {
        "id": "jJ-jZp--Clxz",
        "colab": {
          "base_uri": "https://localhost:8080/",
          "height": 205
        },
        "outputId": "06976098-710d-47c0-dc6e-5c5e04beeffb"
      },
      "outputs": [
        {
          "output_type": "display_data",
          "data": {
            "text/plain": [
              "<IPython.core.display.HTML object>"
            ],
            "text/html": [
              "<table border=\"1\" class=\"dataframe\">\n",
              "  <tbody>\n",
              "    <tr>\n",
              "      <td>,</td>\n",
              "      <td>we</td>\n",
              "      <td>will</td>\n",
              "      <td>go</td>\n",
              "      <td>back</td>\n",
              "    </tr>\n",
              "    <tr>\n",
              "      <td>chapter</td>\n",
              "      <td>1</td>\n",
              "      <td>and</td>\n",
              "      <td>dig</td>\n",
              "      <td>deeper</td>\n",
              "    </tr>\n",
              "    <tr>\n",
              "      <td>the</td>\n",
              "      <td>processing</td>\n",
              "      <td>steps</td>\n",
              "      <td>necessary</td>\n",
              "      <td>to</td>\n",
              "    </tr>\n",
              "    <tr>\n",
              "      <td>xxmaj</td>\n",
              "      <td>by</td>\n",
              "      <td>doing</td>\n",
              "      <td>this</td>\n",
              "      <td>,</td>\n",
              "    </tr>\n",
              "    <tr>\n",
              "      <td>the</td>\n",
              "      <td>data</td>\n",
              "      <td>block</td>\n",
              "      <td>xxup</td>\n",
              "      <td>api</td>\n",
              "    </tr>\n",
              "    <tr>\n",
              "      <td>a</td>\n",
              "      <td>language</td>\n",
              "      <td>model</td>\n",
              "      <td>and</td>\n",
              "      <td>train</td>\n",
              "    </tr>\n",
              "  </tbody>\n",
              "</table>"
            ]
          },
          "metadata": {}
        }
      ],
      "source": [
        "# Just run:\n",
        "bs,seq_len = 6,5\n",
        "d_tokens = np.array([tokens[i*15+seq_len:i*15+2*seq_len] for i in range(bs)])\n",
        "df = pd.DataFrame(d_tokens)\n",
        "display(HTML(df.to_html(index=False,header=None)))"
      ]
    },
    {
      "cell_type": "code",
      "execution_count": 47,
      "metadata": {
        "id": "A8SHFBYDClx0",
        "colab": {
          "base_uri": "https://localhost:8080/",
          "height": 205
        },
        "outputId": "7cb11c19-b78d-4643-af72-537e45d9b403"
      },
      "outputs": [
        {
          "output_type": "display_data",
          "data": {
            "text/plain": [
              "<IPython.core.display.HTML object>"
            ],
            "text/html": [
              "<table border=\"1\" class=\"dataframe\">\n",
              "  <tbody>\n",
              "    <tr>\n",
              "      <td>over</td>\n",
              "      <td>the</td>\n",
              "      <td>example</td>\n",
              "      <td>of</td>\n",
              "      <td>classifying</td>\n",
              "    </tr>\n",
              "    <tr>\n",
              "      <td>under</td>\n",
              "      <td>the</td>\n",
              "      <td>surface</td>\n",
              "      <td>.</td>\n",
              "      <td>xxmaj</td>\n",
              "    </tr>\n",
              "    <tr>\n",
              "      <td>convert</td>\n",
              "      <td>text</td>\n",
              "      <td>into</td>\n",
              "      <td>numbers</td>\n",
              "      <td>and</td>\n",
              "    </tr>\n",
              "    <tr>\n",
              "      <td>we</td>\n",
              "      <td>'ll</td>\n",
              "      <td>have</td>\n",
              "      <td>another</td>\n",
              "      <td>example</td>\n",
              "    </tr>\n",
              "    <tr>\n",
              "      <td>.</td>\n",
              "      <td>\\n</td>\n",
              "      <td>xxmaj</td>\n",
              "      <td>then</td>\n",
              "      <td>we</td>\n",
              "    </tr>\n",
              "    <tr>\n",
              "      <td>it</td>\n",
              "      <td>for</td>\n",
              "      <td>a</td>\n",
              "      <td>while</td>\n",
              "      <td>.</td>\n",
              "    </tr>\n",
              "  </tbody>\n",
              "</table>"
            ]
          },
          "metadata": {}
        }
      ],
      "source": [
        "# Just run:\n",
        "bs,seq_len = 6,5\n",
        "d_tokens = np.array([tokens[i*15+10:i*15+15] for i in range(bs)])\n",
        "df = pd.DataFrame(d_tokens)\n",
        "display(HTML(df.to_html(index=False,header=None)))"
      ]
    },
    {
      "cell_type": "code",
      "source": [
        "nums200 = toks200.map(num)\n",
        "type(nums200)"
      ],
      "metadata": {
        "colab": {
          "base_uri": "https://localhost:8080/",
          "height": 121
        },
        "id": "CdurxCEpj5qY",
        "outputId": "17556221-41cb-4f9e-e915-1d9de21aee4b"
      },
      "execution_count": 48,
      "outputs": [
        {
          "output_type": "execute_result",
          "data": {
            "text/plain": [
              "fastcore.foundation.L"
            ],
            "text/html": [
              "<div style=\"max-width:800px; border: 1px solid var(--colab-border-color);\"><style>\n",
              "      pre.function-repr-contents {\n",
              "        overflow-x: auto;\n",
              "        padding: 8px 12px;\n",
              "        max-height: 500px;\n",
              "      }\n",
              "\n",
              "      pre.function-repr-contents.function-repr-contents-collapsed {\n",
              "        cursor: pointer;\n",
              "        max-height: 100px;\n",
              "      }\n",
              "    </style>\n",
              "    <pre style=\"white-space: initial; background:\n",
              "         var(--colab-secondary-surface-color); padding: 8px 12px;\n",
              "         border-bottom: 1px solid var(--colab-border-color);\"><b>fastcore.foundation.L</b><br/>def __call__(cls, x=None, *args, **kwargs)</pre><pre class=\"function-repr-contents function-repr-contents-collapsed\" style=\"\"><a class=\"filepath\" style=\"display:none\" href=\"#\">/usr/local/lib/python3.10/dist-packages/fastcore/foundation.py</a>Behaves like a list of `items` but can also index with list of indices or masks</pre>\n",
              "      <script>\n",
              "      if (google.colab.kernel.accessAllowed && google.colab.files && google.colab.files.view) {\n",
              "        for (const element of document.querySelectorAll('.filepath')) {\n",
              "          element.style.display = 'block'\n",
              "          element.onclick = (event) => {\n",
              "            event.preventDefault();\n",
              "            event.stopPropagation();\n",
              "            google.colab.files.view(element.textContent, 101);\n",
              "          };\n",
              "        }\n",
              "      }\n",
              "      for (const element of document.querySelectorAll('.function-repr-contents')) {\n",
              "        element.onclick = (event) => {\n",
              "          event.preventDefault();\n",
              "          event.stopPropagation();\n",
              "          element.classList.toggle('function-repr-contents-collapsed');\n",
              "        };\n",
              "      }\n",
              "      </script>\n",
              "      </div>"
            ]
          },
          "metadata": {},
          "execution_count": 48
        }
      ]
    },
    {
      "cell_type": "code",
      "source": [
        "len(nums200)"
      ],
      "metadata": {
        "colab": {
          "base_uri": "https://localhost:8080/"
        },
        "id": "BY0HKdzTkAJl",
        "outputId": "2f88e350-ef99-492d-9ca6-518343834ac9"
      },
      "execution_count": 49,
      "outputs": [
        {
          "output_type": "execute_result",
          "data": {
            "text/plain": [
              "200"
            ]
          },
          "metadata": {},
          "execution_count": 49
        }
      ]
    },
    {
      "cell_type": "code",
      "source": [
        "nums200[0]"
      ],
      "metadata": {
        "colab": {
          "base_uri": "https://localhost:8080/"
        },
        "id": "_KbERXHFkCdX",
        "outputId": "76bdad22-4d9e-4f3f-e73d-d93ec879b5cd"
      },
      "execution_count": 50,
      "outputs": [
        {
          "output_type": "execute_result",
          "data": {
            "text/plain": [
              "TensorText([   2,    8,   18,   22,  100,  908,   19,   38,  114,   47,  787,  389,   48,   13, 1072,    0,   19,   54,  117,   52,    0,    0,   24,    0,   23,  909,   23,   12, 1664,   52,  109,\n",
              "              23, 1312,   23,    0,   29,   74,    0,  247,   11,    8,   21,   37,   10,   17,   73,  389,   10, 1073,  196, 1665,   59,   16,   17,    0,   26,   18,   22, 1666,   34,  412,   62,\n",
              "              32,   10,    0,   12,   13,  197,   23,    0,   23,   11,    8,   18,   87,   72,  185, 1313,   10, 1667,  135,   61,  619, 1668,   26,  390,   10,  472,    8, 1314,  788,  321,   15,\n",
              "             118,    0,   14,  566,   17,   74,  148,  620,   11,    8,    9,    0,   23,   82,   23,   92,   15,  391, 1315,   14,  413,   12,  391,   74, 1669,    0,   11,   25,    8,    9,    8,\n",
              "               0,    0,    0,  179,   23,   85,   15,    0,   14,   13,    8,    0,   12,    0,   18,   24,   13,    0,   14,    0,   23,   11,    8,   18,   22,  278,   19,   51,  293,   17,    9,\n",
              "             170,   26,   52,  370,   11,    8,   53,   78,   20,  162,   10,    9,  789,    7,  240, 1074,  441,   82,  186,  107,    0, 1670,    0,   10,   51,  200,  136,    0,    0,    0,   12,\n",
              "               0,   11,   20,  307,  790,  371,    8,  567,    7,    0,   61,    8,    0,    8,    0,   88,   44,   19,    0,  122,   47,    0,    0,   11,    8,   33,  119,   10,   51,   72,   45,\n",
              "              43,   15,    0,   11,   25,    8,    9,  229,   19,    9,   23, 1314,    0, 1316,  910,    0,   23,    0,   28,   52,    0, 1317,  198,    9,  163,    0,   80,   85,    0,    9,   52,\n",
              "              26,  442,   23, 1318,   23,   34, 1671,   32, 1072,  100,   54,  372,   10,   61,   54,  187,  117,   10,   82,   63,   52,   11,    8,   47,  510,    0,   15,  392, 1075,   17,   78,\n",
              "              23,  100,   23,  322,   36,   17,    9,  163,   11,   25,    8,    9,  686,   23,    0,   23,    0,  187,  294,  108,  255,   55,    0,    0,   15,    0,    9,    0,  389,   10,   61,\n",
              "            1319,    0, 1320,   19,    0,   23,  179,   23,   26,   18,   54,  117,  248,   29,    9,  279,   14,    9,    8,    0,    0,   10,    9,    7,  179, 1076,  333,   14,    0,   23,    0,\n",
              "              23,  198,    9,  163,   61,    9,    8,    0,  414,   19,   10, 1077,   15,    8,    0,    8,    0,   10,   54,  687,    0,    0,    8,    0,   46,  160,   10,   41,   15,  688,    9,\n",
              "            1672,   10,    5,  295, 1321,    8,    0,   34,   17, 1673,   32,   19,   39,  137, 1322,   11,    8,   15,   44, 1666,   10,    8,    0,    8,    0,   28,  443,    0,   15,   27,  102,\n",
              "              94,    9,    7,  179,   11,    8,   12,    9,    7,  179,   16, 1674,  153,  791,   15,   44,   63,    0,   15,    9,    8,    0,   19,   31,   28,   11,   25,    8,   20,  188,  223,\n",
              "               0,   65,    9,    0, 1323,   14,   68,    8,    0,    8,    0,    0,  171,    9,    8,  792,    8,    0,   17,    8,    9,    8,    0,   10,  371,   59,   99,   44,  133,  688,   14,\n",
              "              23,  230,   23,    0,   17,  689,   12,    0,    8,    0,    8,    0,   22,    0,   17,    9, 1078,   22,   10,   55,   51,   92,  117,    0,    0,   46,    9,    8,    0,   11,    8,\n",
              "             233,   41,   11,   25,    8,   49,    9,   63,  690,   15,  473,   15,    9,    8, 1675, 1072,   30, 1676,   10,   66,   41,    0,   14,    0,   11])"
            ]
          },
          "metadata": {},
          "execution_count": 50
        }
      ]
    },
    {
      "cell_type": "code",
      "source": [
        "nums200[0].shape"
      ],
      "metadata": {
        "colab": {
          "base_uri": "https://localhost:8080/"
        },
        "id": "67gUFA48kMiE",
        "outputId": "f546c1be-205c-44ff-ebb4-91b6b949f52f"
      },
      "execution_count": 51,
      "outputs": [
        {
          "output_type": "execute_result",
          "data": {
            "text/plain": [
              "torch.Size([521])"
            ]
          },
          "metadata": {},
          "execution_count": 51
        }
      ]
    },
    {
      "cell_type": "code",
      "source": [
        "nums200[1]"
      ],
      "metadata": {
        "colab": {
          "base_uri": "https://localhost:8080/"
        },
        "id": "fXT9EJU3kO6U",
        "outputId": "6d8e693b-875f-4060-c6cf-203455882788"
      },
      "execution_count": 52,
      "outputs": [
        {
          "output_type": "execute_result",
          "data": {
            "text/plain": [
              "TensorText([   2,    8,   24,    9,    0,   14,    8,  793,   54,    0,  189,    9,  218,   10,  371,   40,    0,   36,    9, 1677,   61,    9,    0,    0,   10,   18,   16,   13,   64,   55,  102,\n",
              "              39,  911,   15,    0,   13,  142,  149,   15,  280,  120,   11,    8,   19,   54, 1324,    0,  511,   40,    8,    0,    8,  568,   10,    0,   12,  474,    0,   17,    0,  512,    8,\n",
              "            1325,   11,   25,    8,   24,   27,    0,  569,   56,   15,   27,  691,   10,   31,   89,   45,  391,    8,  793,   17,  133,  103,  129,    8,  568,  692,    9,  241,  219,   16,    0,\n",
              "              11,    8,    9, 1326,   17,    8,  568,   28, 1678,   56,  224,  794,   10,   31,   22,   13,  334,  256,   10,   13,  241,  225,   58,   27, 1679,    8,  512,    0,   10,    8,  393,\n",
              "              11,    8,    0,   14,    8,    0,    8,  621,   10,    8,  180,    8,  912,   11,   25,    8,   33,   24,    8,  795,    8,    0,  913,   21,  622,   10,    0,   16,   41,  115,  570,\n",
              "              30,  133,   14,  179,   12,   13, 1327, 1328,   12,  281,    0, 1680,    8,  568,   12,  111,   77,   85,   11,   25,   13,    8,  793,    8, 1329,   16,  166,   13, 1681,    0,  394,\n",
              "              19,   90,  323, 1079,   19,   18,   16,   24,  104,   13,  415,  796,   14,    0,  512,    8,   86,    8, 1682,   24,    8, 1080,    8, 1330,   28,   11,    8,    9,  131,   17,   21,\n",
              "              35,   39,  571,   12,    0,  475,   11,    8,    9,    8,    0,   39,   13,  335,   14,    0, 1331,    9,  623,  102,   17,    8, 1080,    8, 1330,   10,   33,   51,   39,  296,   15,\n",
              "             797,   15, 1081,   81,   59,   11,    8,  136,  112,   12, 1683,    0,   74,  476,   10,  101,  693,   15,    9,  324,    8, 1684,    8, 1685,  266,   30,   11,   25,    8,   58,    8,\n",
              "             567,    8,    0,   50,  124,   13,  241,  225,   14,   70,   17,   27,   84,   12,   80,   92,   15,   44,    0,   85,  104,   10,    8,    0,    8,  568, 1332,   13,    0,   81,  477,\n",
              "              24,   15,    9,    0,   31,  136,   92,   30,  798,   68,   70,   17,   21,  206,  163,   11,   25,    8,    0,    8,  624,   17,   27,  799,  257,   12,  800,  255,   54,  207,  104,\n",
              "             914,  150,    9,  161,   14,    8,  568,   11,    8,   33,    8,  567,    7,    0,    8, 1686, 1687,    9,  206,    0,  207,   83,   17,   21,   35,   11,    8,    9,    0,   14,   77,\n",
              "              10,   33,   29,   13,    0,   14, 1333,   19,  156,  179,    0,   30,   77,   15,  572,   11,    8, 1686,    0,   13,  267,    0,   14,  102,   58,    8,    0,    8,    0,   12,    8,\n",
              "               0,    8,    0,   50,  138,  208,  336,   86,    0,   14,    8,  568,   11,   25,    8,  416,    9,  689,  513,   20,  694,  417,    8,  209,    8, 1082,   24,    8, 1684,    8, 1685,\n",
              "              12,    8, 1334,    8, 1688,   24,   13,    0,   12,    0, 1083,   14,    8,  793,  695,   11,   25,    8, 1077,   15,    0,   21,   16,   40,   14,    0,  915,   14,   13,    8,  793,\n",
              "               8, 1329,  123,   19,   51,   43,    0,   12,   18,   16,   40,   14,    9,  106,   11])"
            ]
          },
          "metadata": {},
          "execution_count": 52
        }
      ]
    },
    {
      "cell_type": "code",
      "source": [
        "nums200[1].shape"
      ],
      "metadata": {
        "colab": {
          "base_uri": "https://localhost:8080/"
        },
        "id": "FO7AcWI-kQ6h",
        "outputId": "db5d3798-be29-49ab-8a9b-25344bc64349"
      },
      "execution_count": 53,
      "outputs": [
        {
          "output_type": "execute_result",
          "data": {
            "text/plain": [
              "torch.Size([480])"
            ]
          },
          "metadata": {},
          "execution_count": 53
        }
      ]
    },
    {
      "cell_type": "code",
      "source": [
        "dl = LMDataLoader(nums200)\n",
        "type(dl)"
      ],
      "metadata": {
        "colab": {
          "base_uri": "https://localhost:8080/",
          "height": 121
        },
        "id": "H2tJP0zWkGBD",
        "outputId": "5a9b2bb2-0920-4e6e-da51-09c3ea8f2b13"
      },
      "execution_count": 54,
      "outputs": [
        {
          "output_type": "execute_result",
          "data": {
            "text/plain": [
              "fastai.text.data.LMDataLoader"
            ],
            "text/html": [
              "<div style=\"max-width:800px; border: 1px solid var(--colab-border-color);\"><style>\n",
              "      pre.function-repr-contents {\n",
              "        overflow-x: auto;\n",
              "        padding: 8px 12px;\n",
              "        max-height: 500px;\n",
              "      }\n",
              "\n",
              "      pre.function-repr-contents.function-repr-contents-collapsed {\n",
              "        cursor: pointer;\n",
              "        max-height: 100px;\n",
              "      }\n",
              "    </style>\n",
              "    <pre style=\"white-space: initial; background:\n",
              "         var(--colab-secondary-surface-color); padding: 8px 12px;\n",
              "         border-bottom: 1px solid var(--colab-border-color);\"><b>fastai.text.data.LMDataLoader</b><br/>def __init__(dataset, lens=None, cache=2, bs=64, seq_len=72, num_workers=0, **kwargs)</pre><pre class=\"function-repr-contents function-repr-contents-collapsed\" style=\"\"><a class=\"filepath\" style=\"display:none\" href=\"#\">/usr/local/lib/python3.10/dist-packages/fastai/text/data.py</a>A `DataLoader` suitable for language modeling</pre>\n",
              "      <script>\n",
              "      if (google.colab.kernel.accessAllowed && google.colab.files && google.colab.files.view) {\n",
              "        for (const element of document.querySelectorAll('.filepath')) {\n",
              "          element.style.display = 'block'\n",
              "          element.onclick = (event) => {\n",
              "            event.preventDefault();\n",
              "            event.stopPropagation();\n",
              "            google.colab.files.view(element.textContent, 72);\n",
              "          };\n",
              "        }\n",
              "      }\n",
              "      for (const element of document.querySelectorAll('.function-repr-contents')) {\n",
              "        element.onclick = (event) => {\n",
              "          event.preventDefault();\n",
              "          event.stopPropagation();\n",
              "          element.classList.toggle('function-repr-contents-collapsed');\n",
              "        };\n",
              "      }\n",
              "      </script>\n",
              "      </div>"
            ]
          },
          "metadata": {},
          "execution_count": 54
        }
      ]
    },
    {
      "cell_type": "code",
      "source": [
        "x, y = first(dl)\n",
        "x.shape, y.shape"
      ],
      "metadata": {
        "colab": {
          "base_uri": "https://localhost:8080/"
        },
        "id": "ALk2WypukLJl",
        "outputId": "00a40de8-b1c5-4fba-ddfd-7039a67a1a41"
      },
      "execution_count": 55,
      "outputs": [
        {
          "output_type": "execute_result",
          "data": {
            "text/plain": [
              "(torch.Size([64, 72]), torch.Size([64, 72]))"
            ]
          },
          "metadata": {},
          "execution_count": 55
        }
      ]
    },
    {
      "cell_type": "code",
      "source": [
        "' '.join(num.vocab[o] for o in x[0][:20])"
      ],
      "metadata": {
        "colab": {
          "base_uri": "https://localhost:8080/",
          "height": 35
        },
        "id": "Mm2ApBSZkd0l",
        "outputId": "abb6a9c0-9aeb-4010-cda8-e1dd6b1c7bab"
      },
      "execution_count": 56,
      "outputs": [
        {
          "output_type": "execute_result",
          "data": {
            "text/plain": [
              "\"xxbos xxmaj it 's really rare that you get an inside view at a media xxunk that has been so\""
            ],
            "application/vnd.google.colaboratory.intrinsic+json": {
              "type": "string"
            }
          },
          "metadata": {},
          "execution_count": 56
        }
      ]
    },
    {
      "cell_type": "code",
      "source": [
        "' '.join(num.vocab[o] for o in y[0][:20])"
      ],
      "metadata": {
        "colab": {
          "base_uri": "https://localhost:8080/",
          "height": 35
        },
        "id": "Fr7_WhcgkonE",
        "outputId": "6a102c18-4efd-4b78-a2e1-b4e3a5b9672e"
      },
      "execution_count": 57,
      "outputs": [
        {
          "output_type": "execute_result",
          "data": {
            "text/plain": [
              "\"xxmaj it 's really rare that you get an inside view at a media xxunk that has been so xxunk\""
            ],
            "application/vnd.google.colaboratory.intrinsic+json": {
              "type": "string"
            }
          },
          "metadata": {},
          "execution_count": 57
        }
      ]
    },
    {
      "cell_type": "markdown",
      "metadata": {
        "id": "vshdfqnqClx1"
      },
      "source": [
        "## Training a Text Classifier"
      ]
    },
    {
      "cell_type": "markdown",
      "metadata": {
        "id": "XpgFXRYLClx1"
      },
      "source": [
        "### Language Model Using DataBlock"
      ]
    },
    {
      "cell_type": "code",
      "source": [
        "get_imdb = partial(get_text_files, folders=['train', 'test', 'unsup'])\n",
        "dls_lm = DataBlock(\n",
        "    blocks=TextBlock.from_folder(path, is_lm=True),\n",
        "    get_items=get_imdb,\n",
        "    splitter=RandomSplitter(0.1)\n",
        ").dataloaders(path, path=path, bs=128, seq_len=80)"
      ],
      "metadata": {
        "colab": {
          "base_uri": "https://localhost:8080/"
        },
        "id": "Ux91RAWQl43r",
        "outputId": "ff35cf8e-4467-4344-aaa9-8ee282660758"
      },
      "execution_count": 58,
      "outputs": [
        {
          "output_type": "stream",
          "name": "stderr",
          "text": [
            "/usr/local/lib/python3.10/dist-packages/spacy/util.py:1740: UserWarning: [W111] Jupyter notebook detected: if using `prefer_gpu()` or `require_gpu()`, include it in the same cell right before `spacy.load()` to ensure that the model is loaded on the correct device. More information: http://spacy.io/usage/v3#jupyter-notebook-gpu\n",
            "  warnings.warn(Warnings.W111)\n"
          ]
        }
      ]
    },
    {
      "cell_type": "code",
      "source": [
        "type(dls_lm)"
      ],
      "metadata": {
        "colab": {
          "base_uri": "https://localhost:8080/",
          "height": 121
        },
        "id": "5wCTHRtFs1Kt",
        "outputId": "5b785072-2aa5-45ef-8ec1-617ed1bd099d"
      },
      "execution_count": 59,
      "outputs": [
        {
          "output_type": "execute_result",
          "data": {
            "text/plain": [
              "fastai.data.core.DataLoaders"
            ],
            "text/html": [
              "<div style=\"max-width:800px; border: 1px solid var(--colab-border-color);\"><style>\n",
              "      pre.function-repr-contents {\n",
              "        overflow-x: auto;\n",
              "        padding: 8px 12px;\n",
              "        max-height: 500px;\n",
              "      }\n",
              "\n",
              "      pre.function-repr-contents.function-repr-contents-collapsed {\n",
              "        cursor: pointer;\n",
              "        max-height: 100px;\n",
              "      }\n",
              "    </style>\n",
              "    <pre style=\"white-space: initial; background:\n",
              "         var(--colab-secondary-surface-color); padding: 8px 12px;\n",
              "         border-bottom: 1px solid var(--colab-border-color);\"><b>fastai.data.core.DataLoaders</b><br/>def __init__(*loaders, path: str | Path=&#x27;.&#x27;, device=None)</pre><pre class=\"function-repr-contents function-repr-contents-collapsed\" style=\"\"><a class=\"filepath\" style=\"display:none\" href=\"#\">/usr/local/lib/python3.10/dist-packages/fastai/data/core.py</a>Basic wrapper around several `DataLoader`s.</pre>\n",
              "      <script>\n",
              "      if (google.colab.kernel.accessAllowed && google.colab.files && google.colab.files.view) {\n",
              "        for (const element of document.querySelectorAll('.filepath')) {\n",
              "          element.style.display = 'block'\n",
              "          element.onclick = (event) => {\n",
              "            event.preventDefault();\n",
              "            event.stopPropagation();\n",
              "            google.colab.files.view(element.textContent, 188);\n",
              "          };\n",
              "        }\n",
              "      }\n",
              "      for (const element of document.querySelectorAll('.function-repr-contents')) {\n",
              "        element.onclick = (event) => {\n",
              "          event.preventDefault();\n",
              "          event.stopPropagation();\n",
              "          element.classList.toggle('function-repr-contents-collapsed');\n",
              "        };\n",
              "      }\n",
              "      </script>\n",
              "      </div>"
            ]
          },
          "metadata": {},
          "execution_count": 59
        }
      ]
    },
    {
      "cell_type": "code",
      "source": [
        "dls_lm.show_batch(max_n=2)"
      ],
      "metadata": {
        "colab": {
          "base_uri": "https://localhost:8080/",
          "height": 216
        },
        "id": "Z8fCzkOIs3l0",
        "outputId": "22556857-fada-49fe-9d7e-890ad6e8bbe5"
      },
      "execution_count": 60,
      "outputs": [
        {
          "output_type": "display_data",
          "data": {
            "text/plain": [
              "<IPython.core.display.HTML object>"
            ],
            "text/html": [
              "<table border=\"1\" class=\"dataframe\">\n",
              "  <thead>\n",
              "    <tr style=\"text-align: right;\">\n",
              "      <th></th>\n",
              "      <th>text</th>\n",
              "      <th>text_</th>\n",
              "    </tr>\n",
              "  </thead>\n",
              "  <tbody>\n",
              "    <tr>\n",
              "      <th>0</th>\n",
              "      <td>xxbos i and my friends had a great time watching this collection of dismal performances , tacky set design , a confused patchwork script , and completely unjustified invocation of serious themes like xxmaj vietnam and racism in support of xxunk trash . xxmaj the things we could n't figure out were little things like : why does a black female physics student do graduate work with a white male medical doctor ? xxmaj why this same woman had one</td>\n",
              "      <td>i and my friends had a great time watching this collection of dismal performances , tacky set design , a confused patchwork script , and completely unjustified invocation of serious themes like xxmaj vietnam and racism in support of xxunk trash . xxmaj the things we could n't figure out were little things like : why does a black female physics student do graduate work with a white male medical doctor ? xxmaj why this same woman had one hairdo</td>\n",
              "    </tr>\n",
              "    <tr>\n",
              "      <th>1</th>\n",
              "      <td>xxmaj dell xxmaj henderson , ' little xxmaj billy ' xxmaj rhodes , xxmaj billy xxmaj gilbert , and xxmaj ruth xxmaj xxunk xxmaj the acting by these actors are good especially by xxmaj jamison and xxmaj roberts . xxmaj there are many funny scenes here that i think most xxmaj three xxmaj stooges fans will love ! xxmaj in xxmaj my opinion this one of the most different xxmaj three xxmaj stooges shorts . i recommend this one to</td>\n",
              "      <td>dell xxmaj henderson , ' little xxmaj billy ' xxmaj rhodes , xxmaj billy xxmaj gilbert , and xxmaj ruth xxmaj xxunk xxmaj the acting by these actors are good especially by xxmaj jamison and xxmaj roberts . xxmaj there are many funny scenes here that i think most xxmaj three xxmaj stooges fans will love ! xxmaj in xxmaj my opinion this one of the most different xxmaj three xxmaj stooges shorts . i recommend this one to all</td>\n",
              "    </tr>\n",
              "  </tbody>\n",
              "</table>"
            ]
          },
          "metadata": {}
        }
      ]
    },
    {
      "cell_type": "markdown",
      "source": [
        "Let's explore an actual minibatch comprising input IDs."
      ],
      "metadata": {
        "id": "d7-rf22EbZeu"
      }
    },
    {
      "cell_type": "code",
      "source": [
        "dls_lm[0]"
      ],
      "metadata": {
        "colab": {
          "base_uri": "https://localhost:8080/"
        },
        "id": "ubrMq7PVs-U1",
        "outputId": "44ac8586-6d84-4092-c0e1-c910eb562788"
      },
      "execution_count": 61,
      "outputs": [
        {
          "output_type": "execute_result",
          "data": {
            "text/plain": [
              "<fastai.text.data.LMDataLoader at 0x7988d5973b20>"
            ]
          },
          "metadata": {},
          "execution_count": 61
        }
      ]
    },
    {
      "cell_type": "markdown",
      "source": [
        "This is the training data loader."
      ],
      "metadata": {
        "id": "rLfQEcFWtRIT"
      }
    },
    {
      "cell_type": "code",
      "source": [
        "x_batch, y_batch = next(iter(dls_lm[0]))\n",
        "x_batch.shape, y_batch.shape"
      ],
      "metadata": {
        "colab": {
          "base_uri": "https://localhost:8080/"
        },
        "id": "I_Y3oxdRtBc0",
        "outputId": "cc736fb2-4aa5-4381-aa68-6131e5fbf0ba"
      },
      "execution_count": 62,
      "outputs": [
        {
          "output_type": "execute_result",
          "data": {
            "text/plain": [
              "(torch.Size([128, 80]), torch.Size([128, 80]))"
            ]
          },
          "metadata": {},
          "execution_count": 62
        }
      ]
    },
    {
      "cell_type": "code",
      "source": [
        "x_batch[0]"
      ],
      "metadata": {
        "colab": {
          "base_uri": "https://localhost:8080/"
        },
        "id": "aFVHOaNftKyq",
        "outputId": "0fbdd76d-d992-4f8c-8614-649afda08c54"
      },
      "execution_count": 63,
      "outputs": [
        {
          "output_type": "execute_result",
          "data": {
            "text/plain": [
              "LMTensorText([    2,    19,    74,  1236,   564,    13,   359,    14,     8,  1992,     8, 17803,   135,   282,   374,    13,   656,    14,    41,  2948,    12,   449,   112,    45,    11,    31,\n",
              "                496,    19,   133,   208,   209,    15,   900,     8, 10155,    52,     8,    19,   169,   340,    28,    75,  1092,    31,    15,   998,    20,    32,    35,    17,    23,   222,\n",
              "               5209,   270,    94,  4307,    17,    15,     9,   310,    21,    19,    42,    36,   374,    10,    19,   434,   104,    20,  1043,   160,   399,    11,    12,   155,    19,    89,\n",
              "                 36,   630], device='cuda:0')"
            ]
          },
          "metadata": {},
          "execution_count": 63
        }
      ]
    },
    {
      "cell_type": "code",
      "source": [
        "y_batch[0]"
      ],
      "metadata": {
        "colab": {
          "base_uri": "https://localhost:8080/"
        },
        "id": "qEdruyLStNH-",
        "outputId": "16b177b3-ada4-46b2-f697-559f25567ee6"
      },
      "execution_count": 64,
      "outputs": [
        {
          "output_type": "execute_result",
          "data": {
            "text/plain": [
              "TensorText([   19,    74,  1236,   564,    13,   359,    14,     8,  1992,     8, 17803,   135,   282,   374,    13,   656,    14,    41,  2948,    12,   449,   112,    45,    11,    31,   496,    19,\n",
              "              133,   208,   209,    15,   900,     8, 10155,    52,     8,    19,   169,   340,    28,    75,  1092,    31,    15,   998,    20,    32,    35,    17,    23,   222,  5209,   270,    94,\n",
              "             4307,    17,    15,     9,   310,    21,    19,    42,    36,   374,    10,    19,   434,   104,    20,  1043,   160,   399,    11,    12,   155,    19,    89,    36,   630,    98],\n",
              "           device='cuda:0')"
            ]
          },
          "metadata": {},
          "execution_count": 64
        }
      ]
    },
    {
      "cell_type": "code",
      "source": [
        "type(dls_lm.vocab), len(dls_lm.vocab)"
      ],
      "metadata": {
        "colab": {
          "base_uri": "https://localhost:8080/"
        },
        "id": "wqSIsIXUtZio",
        "outputId": "8b6dfbca-05f0-4519-b7c1-48ea0a6b76a9"
      },
      "execution_count": 65,
      "outputs": [
        {
          "output_type": "execute_result",
          "data": {
            "text/plain": [
              "(list, 60008)"
            ]
          },
          "metadata": {},
          "execution_count": 65
        }
      ]
    },
    {
      "cell_type": "code",
      "source": [
        "print(dls_lm.vocab[:30])"
      ],
      "metadata": {
        "colab": {
          "base_uri": "https://localhost:8080/"
        },
        "id": "ngnMydy8thgv",
        "outputId": "07b91e2d-53de-48d4-d603-aa3f688ef1c0"
      },
      "execution_count": 66,
      "outputs": [
        {
          "output_type": "stream",
          "name": "stdout",
          "text": [
            "['xxunk', 'xxpad', 'xxbos', 'xxeos', 'xxfld', 'xxrep', 'xxwrep', 'xxup', 'xxmaj', 'the', '.', ',', 'and', 'a', 'of', 'to', 'is', 'it', 'in', 'i', 'this', 'that', '\"', \"'s\", '-', 'was', '\\n\\n', 'as', 'with', 'for']\n"
          ]
        }
      ]
    },
    {
      "cell_type": "markdown",
      "metadata": {
        "id": "8uz5xs0WClx2"
      },
      "source": [
        "### Fine-Tuning the Language Model"
      ]
    },
    {
      "cell_type": "code",
      "source": [
        "learn = language_model_learner(dls_lm, AWD_LSTM, drop_mult=0.3, metrics=[accuracy, Perplexity()]).to_fp16()"
      ],
      "metadata": {
        "id": "XIPuGTsMwJ5D"
      },
      "execution_count": 67,
      "outputs": []
    },
    {
      "cell_type": "code",
      "source": [
        "type(learn)"
      ],
      "metadata": {
        "colab": {
          "base_uri": "https://localhost:8080/",
          "height": 121
        },
        "id": "yeY2bZUQxgnm",
        "outputId": "b93e341a-f341-4688-f6b8-f61062d32266"
      },
      "execution_count": 68,
      "outputs": [
        {
          "output_type": "execute_result",
          "data": {
            "text/plain": [
              "fastai.text.learner.LMLearner"
            ],
            "text/html": [
              "<div style=\"max-width:800px; border: 1px solid var(--colab-border-color);\"><style>\n",
              "      pre.function-repr-contents {\n",
              "        overflow-x: auto;\n",
              "        padding: 8px 12px;\n",
              "        max-height: 500px;\n",
              "      }\n",
              "\n",
              "      pre.function-repr-contents.function-repr-contents-collapsed {\n",
              "        cursor: pointer;\n",
              "        max-height: 100px;\n",
              "      }\n",
              "    </style>\n",
              "    <pre style=\"white-space: initial; background:\n",
              "         var(--colab-secondary-surface-color); padding: 8px 12px;\n",
              "         border-bottom: 1px solid var(--colab-border-color);\"><b>fastai.text.learner.LMLearner</b><br/>def __call__(event_name)</pre><pre class=\"function-repr-contents function-repr-contents-collapsed\" style=\"\"><a class=\"filepath\" style=\"display:none\" href=\"#\">/usr/local/lib/python3.10/dist-packages/fastai/text/learner.py</a>Add functionality to `TextLearner` when dealing with a language model</pre>\n",
              "      <script>\n",
              "      if (google.colab.kernel.accessAllowed && google.colab.files && google.colab.files.view) {\n",
              "        for (const element of document.querySelectorAll('.filepath')) {\n",
              "          element.style.display = 'block'\n",
              "          element.onclick = (event) => {\n",
              "            event.preventDefault();\n",
              "            event.stopPropagation();\n",
              "            google.colab.files.view(element.textContent, 190);\n",
              "          };\n",
              "        }\n",
              "      }\n",
              "      for (const element of document.querySelectorAll('.function-repr-contents')) {\n",
              "        element.onclick = (event) => {\n",
              "          event.preventDefault();\n",
              "          event.stopPropagation();\n",
              "          element.classList.toggle('function-repr-contents-collapsed');\n",
              "        };\n",
              "      }\n",
              "      </script>\n",
              "      </div>"
            ]
          },
          "metadata": {},
          "execution_count": 68
        }
      ]
    },
    {
      "cell_type": "code",
      "source": [
        "learn.fit_one_cycle(1, 2e-2)"
      ],
      "metadata": {
        "colab": {
          "base_uri": "https://localhost:8080/",
          "height": 81
        },
        "id": "O0ZEr0-nxl5r",
        "outputId": "ce7c1e7c-378f-4694-b455-2f28c66548c2"
      },
      "execution_count": 69,
      "outputs": [
        {
          "output_type": "display_data",
          "data": {
            "text/plain": [
              "<IPython.core.display.HTML object>"
            ],
            "text/html": [
              "\n",
              "<style>\n",
              "    /* Turns off some styling */\n",
              "    progress {\n",
              "        /* gets rid of default border in Firefox and Opera. */\n",
              "        border: none;\n",
              "        /* Needs to be in here for Safari polyfill so background images work as expected. */\n",
              "        background-size: auto;\n",
              "    }\n",
              "    progress:not([value]), progress:not([value])::-webkit-progress-bar {\n",
              "        background: repeating-linear-gradient(45deg, #7e7e7e, #7e7e7e 10px, #5c5c5c 10px, #5c5c5c 20px);\n",
              "    }\n",
              "    .progress-bar-interrupted, .progress-bar-interrupted::-webkit-progress-bar {\n",
              "        background: #F44336;\n",
              "    }\n",
              "</style>\n"
            ]
          },
          "metadata": {}
        },
        {
          "output_type": "display_data",
          "data": {
            "text/plain": [
              "<IPython.core.display.HTML object>"
            ],
            "text/html": [
              "<table border=\"1\" class=\"dataframe\">\n",
              "  <thead>\n",
              "    <tr style=\"text-align: left;\">\n",
              "      <th>epoch</th>\n",
              "      <th>train_loss</th>\n",
              "      <th>valid_loss</th>\n",
              "      <th>accuracy</th>\n",
              "      <th>perplexity</th>\n",
              "      <th>time</th>\n",
              "    </tr>\n",
              "  </thead>\n",
              "  <tbody>\n",
              "    <tr>\n",
              "      <td>0</td>\n",
              "      <td>4.008890</td>\n",
              "      <td>3.907601</td>\n",
              "      <td>0.299679</td>\n",
              "      <td>49.779408</td>\n",
              "      <td>13:30</td>\n",
              "    </tr>\n",
              "  </tbody>\n",
              "</table>"
            ]
          },
          "metadata": {}
        }
      ]
    },
    {
      "cell_type": "markdown",
      "metadata": {
        "id": "NkesJRJ0Clx2"
      },
      "source": [
        "### Saving and Loading Models"
      ]
    },
    {
      "cell_type": "code",
      "source": [
        "learn.save('1epoch')"
      ],
      "metadata": {
        "colab": {
          "base_uri": "https://localhost:8080/"
        },
        "id": "LaAaOlld3MvZ",
        "outputId": "41fd2938-f529-4674-a3cb-19547715e372"
      },
      "execution_count": 70,
      "outputs": [
        {
          "output_type": "execute_result",
          "data": {
            "text/plain": [
              "Path('/root/.fastai/data/imdb/models/1epoch.pth')"
            ]
          },
          "metadata": {},
          "execution_count": 70
        }
      ]
    },
    {
      "cell_type": "code",
      "source": [
        "learn = learn.load('1epoch')"
      ],
      "metadata": {
        "id": "EOppSFzS3STQ"
      },
      "execution_count": 71,
      "outputs": []
    },
    {
      "cell_type": "code",
      "source": [
        "learn.unfreeze()\n",
        "learn.fit_one_cycle(10, 2e-3)"
      ],
      "metadata": {
        "colab": {
          "base_uri": "https://localhost:8080/",
          "height": 363
        },
        "id": "1P2IjZQj3V_U",
        "outputId": "57718eb9-330b-40a7-a6d0-e7f1feda86ec"
      },
      "execution_count": 72,
      "outputs": [
        {
          "output_type": "display_data",
          "data": {
            "text/plain": [
              "<IPython.core.display.HTML object>"
            ],
            "text/html": [
              "\n",
              "<style>\n",
              "    /* Turns off some styling */\n",
              "    progress {\n",
              "        /* gets rid of default border in Firefox and Opera. */\n",
              "        border: none;\n",
              "        /* Needs to be in here for Safari polyfill so background images work as expected. */\n",
              "        background-size: auto;\n",
              "    }\n",
              "    progress:not([value]), progress:not([value])::-webkit-progress-bar {\n",
              "        background: repeating-linear-gradient(45deg, #7e7e7e, #7e7e7e 10px, #5c5c5c 10px, #5c5c5c 20px);\n",
              "    }\n",
              "    .progress-bar-interrupted, .progress-bar-interrupted::-webkit-progress-bar {\n",
              "        background: #F44336;\n",
              "    }\n",
              "</style>\n"
            ]
          },
          "metadata": {}
        },
        {
          "output_type": "display_data",
          "data": {
            "text/plain": [
              "<IPython.core.display.HTML object>"
            ],
            "text/html": [
              "<table border=\"1\" class=\"dataframe\">\n",
              "  <thead>\n",
              "    <tr style=\"text-align: left;\">\n",
              "      <th>epoch</th>\n",
              "      <th>train_loss</th>\n",
              "      <th>valid_loss</th>\n",
              "      <th>accuracy</th>\n",
              "      <th>perplexity</th>\n",
              "      <th>time</th>\n",
              "    </tr>\n",
              "  </thead>\n",
              "  <tbody>\n",
              "    <tr>\n",
              "      <td>0</td>\n",
              "      <td>3.753312</td>\n",
              "      <td>3.767698</td>\n",
              "      <td>0.315585</td>\n",
              "      <td>43.280300</td>\n",
              "      <td>14:24</td>\n",
              "    </tr>\n",
              "    <tr>\n",
              "      <td>1</td>\n",
              "      <td>3.705464</td>\n",
              "      <td>3.707013</td>\n",
              "      <td>0.322892</td>\n",
              "      <td>40.731964</td>\n",
              "      <td>14:45</td>\n",
              "    </tr>\n",
              "    <tr>\n",
              "      <td>2</td>\n",
              "      <td>3.643721</td>\n",
              "      <td>3.659286</td>\n",
              "      <td>0.327830</td>\n",
              "      <td>38.833588</td>\n",
              "      <td>14:27</td>\n",
              "    </tr>\n",
              "    <tr>\n",
              "      <td>3</td>\n",
              "      <td>3.555379</td>\n",
              "      <td>3.625676</td>\n",
              "      <td>0.332236</td>\n",
              "      <td>37.550114</td>\n",
              "      <td>14:25</td>\n",
              "    </tr>\n",
              "    <tr>\n",
              "      <td>4</td>\n",
              "      <td>3.499944</td>\n",
              "      <td>3.604378</td>\n",
              "      <td>0.335106</td>\n",
              "      <td>36.758820</td>\n",
              "      <td>14:27</td>\n",
              "    </tr>\n",
              "    <tr>\n",
              "      <td>5</td>\n",
              "      <td>3.428487</td>\n",
              "      <td>3.589561</td>\n",
              "      <td>0.337112</td>\n",
              "      <td>36.218174</td>\n",
              "      <td>14:23</td>\n",
              "    </tr>\n",
              "    <tr>\n",
              "      <td>6</td>\n",
              "      <td>3.369237</td>\n",
              "      <td>3.581008</td>\n",
              "      <td>0.338364</td>\n",
              "      <td>35.909710</td>\n",
              "      <td>14:20</td>\n",
              "    </tr>\n",
              "    <tr>\n",
              "      <td>7</td>\n",
              "      <td>3.305494</td>\n",
              "      <td>3.578224</td>\n",
              "      <td>0.339425</td>\n",
              "      <td>35.809875</td>\n",
              "      <td>13:39</td>\n",
              "    </tr>\n",
              "    <tr>\n",
              "      <td>8</td>\n",
              "      <td>3.250010</td>\n",
              "      <td>3.580995</td>\n",
              "      <td>0.339758</td>\n",
              "      <td>35.909237</td>\n",
              "      <td>13:32</td>\n",
              "    </tr>\n",
              "    <tr>\n",
              "      <td>9</td>\n",
              "      <td>3.219402</td>\n",
              "      <td>3.585987</td>\n",
              "      <td>0.339525</td>\n",
              "      <td>36.088963</td>\n",
              "      <td>13:28</td>\n",
              "    </tr>\n",
              "  </tbody>\n",
              "</table>"
            ]
          },
          "metadata": {}
        }
      ]
    },
    {
      "cell_type": "code",
      "source": [
        "learn.save_encoder('finetuned')"
      ],
      "metadata": {
        "id": "nwqOy0bMXuXn"
      },
      "execution_count": 73,
      "outputs": []
    },
    {
      "cell_type": "markdown",
      "metadata": {
        "id": "qjDXEfBuClx3"
      },
      "source": [
        "### Text Generation"
      ]
    },
    {
      "cell_type": "code",
      "source": [
        "TEXT = \"I liked this movie because\"\n",
        "N_WORDS = 40\n",
        "N_SENTENCES = 2\n",
        "preds = [learn.predict(TEXT, N_WORDS, temperature=0.75) for _ in range(N_SENTENCES)]"
      ],
      "metadata": {
        "id": "OtJ9M5WOZBkC",
        "colab": {
          "base_uri": "https://localhost:8080/",
          "height": 17
        },
        "outputId": "0af6027c-be26-4bd1-df35-8e7965c8dda5"
      },
      "execution_count": 74,
      "outputs": [
        {
          "output_type": "display_data",
          "data": {
            "text/plain": [
              "<IPython.core.display.HTML object>"
            ],
            "text/html": [
              "\n",
              "<style>\n",
              "    /* Turns off some styling */\n",
              "    progress {\n",
              "        /* gets rid of default border in Firefox and Opera. */\n",
              "        border: none;\n",
              "        /* Needs to be in here for Safari polyfill so background images work as expected. */\n",
              "        background-size: auto;\n",
              "    }\n",
              "    progress:not([value]), progress:not([value])::-webkit-progress-bar {\n",
              "        background: repeating-linear-gradient(45deg, #7e7e7e, #7e7e7e 10px, #5c5c5c 10px, #5c5c5c 20px);\n",
              "    }\n",
              "    .progress-bar-interrupted, .progress-bar-interrupted::-webkit-progress-bar {\n",
              "        background: #F44336;\n",
              "    }\n",
              "</style>\n"
            ]
          },
          "metadata": {}
        },
        {
          "output_type": "display_data",
          "data": {
            "text/plain": [
              "<IPython.core.display.HTML object>"
            ],
            "text/html": []
          },
          "metadata": {}
        },
        {
          "output_type": "display_data",
          "data": {
            "text/plain": [
              "<IPython.core.display.HTML object>"
            ],
            "text/html": [
              "\n",
              "<style>\n",
              "    /* Turns off some styling */\n",
              "    progress {\n",
              "        /* gets rid of default border in Firefox and Opera. */\n",
              "        border: none;\n",
              "        /* Needs to be in here for Safari polyfill so background images work as expected. */\n",
              "        background-size: auto;\n",
              "    }\n",
              "    progress:not([value]), progress:not([value])::-webkit-progress-bar {\n",
              "        background: repeating-linear-gradient(45deg, #7e7e7e, #7e7e7e 10px, #5c5c5c 10px, #5c5c5c 20px);\n",
              "    }\n",
              "    .progress-bar-interrupted, .progress-bar-interrupted::-webkit-progress-bar {\n",
              "        background: #F44336;\n",
              "    }\n",
              "</style>\n"
            ]
          },
          "metadata": {}
        },
        {
          "output_type": "display_data",
          "data": {
            "text/plain": [
              "<IPython.core.display.HTML object>"
            ],
            "text/html": []
          },
          "metadata": {}
        }
      ]
    },
    {
      "cell_type": "code",
      "source": [
        "preds"
      ],
      "metadata": {
        "id": "0wl6ZAT5Y60p",
        "colab": {
          "base_uri": "https://localhost:8080/"
        },
        "outputId": "e6308c1a-e39e-4e27-cbe3-be5b15bdeddc"
      },
      "execution_count": 75,
      "outputs": [
        {
          "output_type": "execute_result",
          "data": {
            "text/plain": [
              "[\"i liked this movie because it dealt with real issues which i do n't know , but somehow the film was very realistic , and very hard to watch . i have seen Gary Oldman 's movies , and i always loved him\",\n",
              " 'i liked this movie because it was a good love story . It was a story about a married couple who decide to decide one way to go to a Florida beach . i liked the ending so much , i thought it']"
            ]
          },
          "metadata": {},
          "execution_count": 75
        }
      ]
    },
    {
      "cell_type": "markdown",
      "metadata": {
        "id": "YaNkxNQFClx4"
      },
      "source": [
        "### Creating the Classifier DataLoaders"
      ]
    },
    {
      "cell_type": "code",
      "source": [
        "dls_clas = DataBlock(\n",
        "    blocks=(TextBlock.from_folder(path, vocab=dls_lm.vocab), CategoryBlock),\n",
        "    get_y=parent_label,\n",
        "    get_items=partial(get_text_files, folders=['train', 'test']),\n",
        "    splitter=GrandparentSplitter(valid_name='test')\n",
        ").dataloaders(path, path=path, bs=128, seq_len=72)"
      ],
      "metadata": {
        "colab": {
          "base_uri": "https://localhost:8080/"
        },
        "id": "mdo-dq5q4_3O",
        "outputId": "791395da-5699-4287-ae7a-22438b251631"
      },
      "execution_count": 76,
      "outputs": [
        {
          "output_type": "stream",
          "name": "stderr",
          "text": [
            "/usr/local/lib/python3.10/dist-packages/spacy/util.py:1740: UserWarning: [W111] Jupyter notebook detected: if using `prefer_gpu()` or `require_gpu()`, include it in the same cell right before `spacy.load()` to ensure that the model is loaded on the correct device. More information: http://spacy.io/usage/v3#jupyter-notebook-gpu\n",
            "  warnings.warn(Warnings.W111)\n"
          ]
        }
      ]
    },
    {
      "cell_type": "code",
      "source": [
        "dls_clas.show_batch(max_n=3)"
      ],
      "metadata": {
        "colab": {
          "base_uri": "https://localhost:8080/",
          "height": 265
        },
        "id": "ki16WWDI6kKe",
        "outputId": "d75f2556-b670-4457-95e2-34e15476962b"
      },
      "execution_count": 77,
      "outputs": [
        {
          "output_type": "display_data",
          "data": {
            "text/plain": [
              "<IPython.core.display.HTML object>"
            ],
            "text/html": [
              "<table border=\"1\" class=\"dataframe\">\n",
              "  <thead>\n",
              "    <tr style=\"text-align: right;\">\n",
              "      <th></th>\n",
              "      <th>text</th>\n",
              "      <th>category</th>\n",
              "    </tr>\n",
              "  </thead>\n",
              "  <tbody>\n",
              "    <tr>\n",
              "      <th>0</th>\n",
              "      <td>xxbos xxmaj match 1 : xxmaj tag xxmaj team xxmaj table xxmaj match xxmaj bubba xxmaj ray and xxmaj spike xxmaj dudley vs xxmaj eddie xxmaj guerrero and xxmaj chris xxmaj benoit xxmaj bubba xxmaj ray and xxmaj spike xxmaj dudley started things off with a xxmaj tag xxmaj team xxmaj table xxmaj match against xxmaj eddie xxmaj guerrero and xxmaj chris xxmaj benoit . xxmaj according to the rules of the match , both opponents have to go through tables in order to get the win . xxmaj benoit and xxmaj guerrero heated up early on by taking turns hammering first xxmaj spike and then xxmaj bubba xxmaj ray . a xxmaj german xxunk by xxmaj benoit to xxmaj bubba took the wind out of the xxmaj dudley brother . xxmaj spike tried to help his brother , but the referee restrained him while xxmaj benoit and xxmaj guerrero</td>\n",
              "      <td>pos</td>\n",
              "    </tr>\n",
              "    <tr>\n",
              "      <th>1</th>\n",
              "      <td>xxbos xxmaj some have praised xxunk xxmaj lost xxmaj xxunk as a xxmaj disney adventure for adults . i do n't think so -- at least not for thinking adults . \\n\\n xxmaj this script suggests a beginning as a live - action movie , that struck someone as the type of crap you can not sell to adults anymore . xxmaj the \" crack staff \" of many older adventure movies has been done well before , ( think xxmaj the xxmaj dirty xxmaj dozen ) but xxunk represents one of the worse films in that motif . xxmaj the characters are weak . xxmaj even the background that each member trots out seems stock and awkward at best . xxmaj an xxup md / xxmaj medicine xxmaj man , a tomboy mechanic whose father always wanted sons , if we have not at least seen these before ,</td>\n",
              "      <td>neg</td>\n",
              "    </tr>\n",
              "    <tr>\n",
              "      <th>2</th>\n",
              "      <td>xxbos xxmaj warning : xxmaj does contain spoilers . \\n\\n xxmaj open xxmaj your xxmaj eyes \\n\\n xxmaj if you have not seen this film and plan on doing so , just stop reading here and take my word for it . xxmaj you have to see this film . i have seen it four times so far and i still have n't made up my mind as to what exactly happened in the film . xxmaj that is all i am going to say because if you have not seen this film , then stop reading right now . \\n\\n xxmaj if you are still reading then i am going to pose some questions to you and maybe if anyone has any answers you can email me and let me know what you think . \\n\\n i remember my xxmaj grade 11 xxmaj english teacher quite well . xxmaj</td>\n",
              "      <td>pos</td>\n",
              "    </tr>\n",
              "  </tbody>\n",
              "</table>"
            ]
          },
          "metadata": {}
        }
      ]
    },
    {
      "cell_type": "code",
      "source": [
        "dls_clas[0]"
      ],
      "metadata": {
        "colab": {
          "base_uri": "https://localhost:8080/"
        },
        "id": "o5Rfgpup6rP5",
        "outputId": "a3a87975-c176-41fb-e712-7eb74705c9d5"
      },
      "execution_count": 78,
      "outputs": [
        {
          "output_type": "execute_result",
          "data": {
            "text/plain": [
              "<fastai.text.data.SortedDL at 0x7988c07d3d00>"
            ]
          },
          "metadata": {},
          "execution_count": 78
        }
      ]
    },
    {
      "cell_type": "markdown",
      "source": [
        "This is the training data loader."
      ],
      "metadata": {
        "id": "qDtEiN7zwqe6"
      }
    },
    {
      "cell_type": "code",
      "source": [
        "x_batch, y_batch = next(iter(dls_clas[0]))\n",
        "x_batch.shape, y_batch.shape"
      ],
      "metadata": {
        "colab": {
          "base_uri": "https://localhost:8080/"
        },
        "id": "LpI9sJOS6xC5",
        "outputId": "f3d4d7ac-41d3-4cdf-e831-8e1e56695a92"
      },
      "execution_count": 79,
      "outputs": [
        {
          "output_type": "stream",
          "name": "stderr",
          "text": [
            "/usr/lib/python3.10/multiprocessing/popen_fork.py:66: RuntimeWarning: os.fork() was called. os.fork() is incompatible with multithreaded code, and JAX is multithreaded, so this will likely lead to a deadlock.\n",
            "  self.pid = os.fork()\n"
          ]
        },
        {
          "output_type": "execute_result",
          "data": {
            "text/plain": [
              "(torch.Size([128, 3345]), torch.Size([128]))"
            ]
          },
          "metadata": {},
          "execution_count": 79
        }
      ]
    },
    {
      "cell_type": "code",
      "source": [
        "nums_samp = toks200[:10].map(num)"
      ],
      "metadata": {
        "id": "CSC6tXcg6-kS"
      },
      "execution_count": 80,
      "outputs": []
    },
    {
      "cell_type": "code",
      "source": [
        "nums_samp.map(len)"
      ],
      "metadata": {
        "colab": {
          "base_uri": "https://localhost:8080/"
        },
        "id": "LE8fLldi7jlX",
        "outputId": "7c23155a-d3ae-41b6-e17d-4bf760da0867"
      },
      "execution_count": 81,
      "outputs": [
        {
          "output_type": "execute_result",
          "data": {
            "text/plain": [
              "(#10) [521,480,161,67,204,334,200,237,398,943]"
            ]
          },
          "metadata": {},
          "execution_count": 81
        }
      ]
    },
    {
      "cell_type": "code",
      "source": [
        "learn = text_classifier_learner(dls_clas, AWD_LSTM, drop_mult=0.5, metrics=accuracy).to_fp16()"
      ],
      "metadata": {
        "id": "Os13aDkX7_oC"
      },
      "execution_count": 82,
      "outputs": []
    },
    {
      "cell_type": "code",
      "source": [
        "learn = learn.load_encoder('finetuned')"
      ],
      "metadata": {
        "id": "8nkXLc9H8PxY"
      },
      "execution_count": 83,
      "outputs": []
    },
    {
      "cell_type": "markdown",
      "metadata": {
        "id": "iEpAxgPEClx6"
      },
      "source": [
        "### Fine-Tuning the Classifier"
      ]
    },
    {
      "cell_type": "code",
      "source": [
        "learn.fit_one_cycle(1, 2e-2)"
      ],
      "metadata": {
        "colab": {
          "base_uri": "https://localhost:8080/",
          "height": 150
        },
        "id": "UbK0U5kX8U7_",
        "outputId": "7183ed72-108d-4dd0-9820-5044f7a39860"
      },
      "execution_count": 84,
      "outputs": [
        {
          "output_type": "display_data",
          "data": {
            "text/plain": [
              "<IPython.core.display.HTML object>"
            ],
            "text/html": [
              "\n",
              "<style>\n",
              "    /* Turns off some styling */\n",
              "    progress {\n",
              "        /* gets rid of default border in Firefox and Opera. */\n",
              "        border: none;\n",
              "        /* Needs to be in here for Safari polyfill so background images work as expected. */\n",
              "        background-size: auto;\n",
              "    }\n",
              "    progress:not([value]), progress:not([value])::-webkit-progress-bar {\n",
              "        background: repeating-linear-gradient(45deg, #7e7e7e, #7e7e7e 10px, #5c5c5c 10px, #5c5c5c 20px);\n",
              "    }\n",
              "    .progress-bar-interrupted, .progress-bar-interrupted::-webkit-progress-bar {\n",
              "        background: #F44336;\n",
              "    }\n",
              "</style>\n"
            ]
          },
          "metadata": {}
        },
        {
          "output_type": "display_data",
          "data": {
            "text/plain": [
              "<IPython.core.display.HTML object>"
            ],
            "text/html": [
              "<table border=\"1\" class=\"dataframe\">\n",
              "  <thead>\n",
              "    <tr style=\"text-align: left;\">\n",
              "      <th>epoch</th>\n",
              "      <th>train_loss</th>\n",
              "      <th>valid_loss</th>\n",
              "      <th>accuracy</th>\n",
              "      <th>time</th>\n",
              "    </tr>\n",
              "  </thead>\n",
              "  <tbody>\n",
              "    <tr>\n",
              "      <td>0</td>\n",
              "      <td>0.249031</td>\n",
              "      <td>0.178546</td>\n",
              "      <td>0.931960</td>\n",
              "      <td>01:08</td>\n",
              "    </tr>\n",
              "  </tbody>\n",
              "</table>"
            ]
          },
          "metadata": {}
        },
        {
          "output_type": "stream",
          "name": "stderr",
          "text": [
            "/usr/lib/python3.10/multiprocessing/popen_fork.py:66: RuntimeWarning: os.fork() was called. os.fork() is incompatible with multithreaded code, and JAX is multithreaded, so this will likely lead to a deadlock.\n",
            "  self.pid = os.fork()\n",
            "/usr/lib/python3.10/multiprocessing/popen_fork.py:66: RuntimeWarning: os.fork() was called. os.fork() is incompatible with multithreaded code, and JAX is multithreaded, so this will likely lead to a deadlock.\n",
            "  self.pid = os.fork()\n"
          ]
        }
      ]
    },
    {
      "cell_type": "code",
      "source": [
        "learn.freeze_to(-2)\n",
        "learn.fit_one_cycle(1, slice(1e-2/(2.6**4), 1e-2))"
      ],
      "metadata": {
        "colab": {
          "base_uri": "https://localhost:8080/",
          "height": 150
        },
        "id": "dHeryxH-8wfx",
        "outputId": "aeab08b5-cd48-49f8-aa96-d36e7b1d4346"
      },
      "execution_count": 85,
      "outputs": [
        {
          "output_type": "display_data",
          "data": {
            "text/plain": [
              "<IPython.core.display.HTML object>"
            ],
            "text/html": [
              "\n",
              "<style>\n",
              "    /* Turns off some styling */\n",
              "    progress {\n",
              "        /* gets rid of default border in Firefox and Opera. */\n",
              "        border: none;\n",
              "        /* Needs to be in here for Safari polyfill so background images work as expected. */\n",
              "        background-size: auto;\n",
              "    }\n",
              "    progress:not([value]), progress:not([value])::-webkit-progress-bar {\n",
              "        background: repeating-linear-gradient(45deg, #7e7e7e, #7e7e7e 10px, #5c5c5c 10px, #5c5c5c 20px);\n",
              "    }\n",
              "    .progress-bar-interrupted, .progress-bar-interrupted::-webkit-progress-bar {\n",
              "        background: #F44336;\n",
              "    }\n",
              "</style>\n"
            ]
          },
          "metadata": {}
        },
        {
          "output_type": "display_data",
          "data": {
            "text/plain": [
              "<IPython.core.display.HTML object>"
            ],
            "text/html": [
              "<table border=\"1\" class=\"dataframe\">\n",
              "  <thead>\n",
              "    <tr style=\"text-align: left;\">\n",
              "      <th>epoch</th>\n",
              "      <th>train_loss</th>\n",
              "      <th>valid_loss</th>\n",
              "      <th>accuracy</th>\n",
              "      <th>time</th>\n",
              "    </tr>\n",
              "  </thead>\n",
              "  <tbody>\n",
              "    <tr>\n",
              "      <td>0</td>\n",
              "      <td>0.216906</td>\n",
              "      <td>0.164325</td>\n",
              "      <td>0.938960</td>\n",
              "      <td>01:04</td>\n",
              "    </tr>\n",
              "  </tbody>\n",
              "</table>"
            ]
          },
          "metadata": {}
        },
        {
          "output_type": "stream",
          "name": "stderr",
          "text": [
            "/usr/lib/python3.10/multiprocessing/popen_fork.py:66: RuntimeWarning: os.fork() was called. os.fork() is incompatible with multithreaded code, and JAX is multithreaded, so this will likely lead to a deadlock.\n",
            "  self.pid = os.fork()\n",
            "/usr/lib/python3.10/multiprocessing/popen_fork.py:66: RuntimeWarning: os.fork() was called. os.fork() is incompatible with multithreaded code, and JAX is multithreaded, so this will likely lead to a deadlock.\n",
            "  self.pid = os.fork()\n"
          ]
        }
      ]
    },
    {
      "cell_type": "code",
      "source": [
        "learn.freeze_to(-3)\n",
        "learn.fit_one_cycle(1, slice(5e-3/(2.6**4), 5e-3))"
      ],
      "metadata": {
        "colab": {
          "base_uri": "https://localhost:8080/",
          "height": 150
        },
        "id": "R9MIYTFm9MN7",
        "outputId": "603a2ad5-19af-48f1-a3cd-129d97479e84"
      },
      "execution_count": 86,
      "outputs": [
        {
          "output_type": "display_data",
          "data": {
            "text/plain": [
              "<IPython.core.display.HTML object>"
            ],
            "text/html": [
              "\n",
              "<style>\n",
              "    /* Turns off some styling */\n",
              "    progress {\n",
              "        /* gets rid of default border in Firefox and Opera. */\n",
              "        border: none;\n",
              "        /* Needs to be in here for Safari polyfill so background images work as expected. */\n",
              "        background-size: auto;\n",
              "    }\n",
              "    progress:not([value]), progress:not([value])::-webkit-progress-bar {\n",
              "        background: repeating-linear-gradient(45deg, #7e7e7e, #7e7e7e 10px, #5c5c5c 10px, #5c5c5c 20px);\n",
              "    }\n",
              "    .progress-bar-interrupted, .progress-bar-interrupted::-webkit-progress-bar {\n",
              "        background: #F44336;\n",
              "    }\n",
              "</style>\n"
            ]
          },
          "metadata": {}
        },
        {
          "output_type": "display_data",
          "data": {
            "text/plain": [
              "<IPython.core.display.HTML object>"
            ],
            "text/html": [
              "<table border=\"1\" class=\"dataframe\">\n",
              "  <thead>\n",
              "    <tr style=\"text-align: left;\">\n",
              "      <th>epoch</th>\n",
              "      <th>train_loss</th>\n",
              "      <th>valid_loss</th>\n",
              "      <th>accuracy</th>\n",
              "      <th>time</th>\n",
              "    </tr>\n",
              "  </thead>\n",
              "  <tbody>\n",
              "    <tr>\n",
              "      <td>0</td>\n",
              "      <td>0.190920</td>\n",
              "      <td>0.148512</td>\n",
              "      <td>0.944640</td>\n",
              "      <td>01:11</td>\n",
              "    </tr>\n",
              "  </tbody>\n",
              "</table>"
            ]
          },
          "metadata": {}
        },
        {
          "output_type": "stream",
          "name": "stderr",
          "text": [
            "/usr/lib/python3.10/multiprocessing/popen_fork.py:66: RuntimeWarning: os.fork() was called. os.fork() is incompatible with multithreaded code, and JAX is multithreaded, so this will likely lead to a deadlock.\n",
            "  self.pid = os.fork()\n",
            "/usr/lib/python3.10/multiprocessing/popen_fork.py:66: RuntimeWarning: os.fork() was called. os.fork() is incompatible with multithreaded code, and JAX is multithreaded, so this will likely lead to a deadlock.\n",
            "  self.pid = os.fork()\n"
          ]
        }
      ]
    },
    {
      "cell_type": "code",
      "source": [
        "learn.unfreeze()\n",
        "learn.fit_one_cycle(2, slice(1e-3/(2.6**4), 1e-3))"
      ],
      "metadata": {
        "colab": {
          "base_uri": "https://localhost:8080/",
          "height": 355
        },
        "id": "j2AIIsGc9rhW",
        "outputId": "0e76ace4-f9d9-4970-b80e-1b84d5287be1"
      },
      "execution_count": 87,
      "outputs": [
        {
          "output_type": "display_data",
          "data": {
            "text/plain": [
              "<IPython.core.display.HTML object>"
            ],
            "text/html": [
              "\n",
              "<style>\n",
              "    /* Turns off some styling */\n",
              "    progress {\n",
              "        /* gets rid of default border in Firefox and Opera. */\n",
              "        border: none;\n",
              "        /* Needs to be in here for Safari polyfill so background images work as expected. */\n",
              "        background-size: auto;\n",
              "    }\n",
              "    progress:not([value]), progress:not([value])::-webkit-progress-bar {\n",
              "        background: repeating-linear-gradient(45deg, #7e7e7e, #7e7e7e 10px, #5c5c5c 10px, #5c5c5c 20px);\n",
              "    }\n",
              "    .progress-bar-interrupted, .progress-bar-interrupted::-webkit-progress-bar {\n",
              "        background: #F44336;\n",
              "    }\n",
              "</style>\n"
            ]
          },
          "metadata": {}
        },
        {
          "output_type": "display_data",
          "data": {
            "text/plain": [
              "<IPython.core.display.HTML object>"
            ],
            "text/html": [
              "<table border=\"1\" class=\"dataframe\">\n",
              "  <thead>\n",
              "    <tr style=\"text-align: left;\">\n",
              "      <th>epoch</th>\n",
              "      <th>train_loss</th>\n",
              "      <th>valid_loss</th>\n",
              "      <th>accuracy</th>\n",
              "      <th>time</th>\n",
              "    </tr>\n",
              "  </thead>\n",
              "  <tbody>\n",
              "    <tr>\n",
              "      <td>0</td>\n",
              "      <td>0.157399</td>\n",
              "      <td>0.146628</td>\n",
              "      <td>0.946080</td>\n",
              "      <td>01:13</td>\n",
              "    </tr>\n",
              "    <tr>\n",
              "      <td>1</td>\n",
              "      <td>0.151411</td>\n",
              "      <td>0.147501</td>\n",
              "      <td>0.946800</td>\n",
              "      <td>01:12</td>\n",
              "    </tr>\n",
              "  </tbody>\n",
              "</table>"
            ]
          },
          "metadata": {}
        },
        {
          "output_type": "stream",
          "name": "stderr",
          "text": [
            "/usr/lib/python3.10/multiprocessing/popen_fork.py:66: RuntimeWarning: os.fork() was called. os.fork() is incompatible with multithreaded code, and JAX is multithreaded, so this will likely lead to a deadlock.\n",
            "  self.pid = os.fork()\n",
            "/usr/lib/python3.10/multiprocessing/popen_fork.py:66: RuntimeWarning: os.fork() was called. os.fork() is incompatible with multithreaded code, and JAX is multithreaded, so this will likely lead to a deadlock.\n",
            "  self.pid = os.fork()\n",
            "/usr/lib/python3.10/multiprocessing/popen_fork.py:66: RuntimeWarning: os.fork() was called. os.fork() is incompatible with multithreaded code, and JAX is multithreaded, so this will likely lead to a deadlock.\n",
            "  self.pid = os.fork()\n",
            "/usr/lib/python3.10/multiprocessing/popen_fork.py:66: RuntimeWarning: os.fork() was called. os.fork() is incompatible with multithreaded code, and JAX is multithreaded, so this will likely lead to a deadlock.\n",
            "  self.pid = os.fork()\n",
            "/usr/lib/python3.10/multiprocessing/popen_fork.py:66: RuntimeWarning: os.fork() was called. os.fork() is incompatible with multithreaded code, and JAX is multithreaded, so this will likely lead to a deadlock.\n",
            "  self.pid = os.fork()\n",
            "/usr/lib/python3.10/multiprocessing/popen_fork.py:66: RuntimeWarning: os.fork() was called. os.fork() is incompatible with multithreaded code, and JAX is multithreaded, so this will likely lead to a deadlock.\n",
            "  self.pid = os.fork()\n",
            "/usr/lib/python3.10/multiprocessing/popen_fork.py:66: RuntimeWarning: os.fork() was called. os.fork() is incompatible with multithreaded code, and JAX is multithreaded, so this will likely lead to a deadlock.\n",
            "  self.pid = os.fork()\n"
          ]
        }
      ]
    },
    {
      "cell_type": "markdown",
      "metadata": {
        "id": "7Ex-iE5uClx7"
      },
      "source": [
        "## Disinformation and Language Models"
      ]
    },
    {
      "cell_type": "markdown",
      "metadata": {
        "id": "RoEVv01RClx7"
      },
      "source": [
        "## Conclusion"
      ]
    },
    {
      "cell_type": "markdown",
      "metadata": {
        "id": "YXjpCAfKClx7"
      },
      "source": [
        "## Questionnaire"
      ]
    },
    {
      "cell_type": "markdown",
      "metadata": {
        "id": "r9x6D_JoClx8"
      },
      "source": [
        "1. What is \"self-supervised learning\"?\n",
        "1. What is a \"language model\"?\n",
        "1. Why is a language model considered self-supervised?\n",
        "1. What are self-supervised models usually used for?\n",
        "1. Why do we fine-tune language models?\n",
        "1. What are the three steps to create a state-of-the-art text classifier?\n",
        "1. How do the 50,000 unlabeled movie reviews help us create a better text classifier for the IMDb dataset?\n",
        "1. What are the three steps to prepare your data for a language model?\n",
        "1. What is \"tokenization\"? Why do we need it?\n",
        "1. Name three different approaches to tokenization.\n",
        "1. What is `xxbos`?\n",
        "1. List four rules that fastai applies to text during tokenization.\n",
        "1. Why are repeated characters replaced with a token showing the number of repetitions and the character that's repeated?\n",
        "1. What is \"numericalization\"?\n",
        "1. Why might there be words that are replaced with the \"unknown word\" token?\n",
        "1. With a batch size of 64, the first row of the tensor representing the first batch contains the first 64 tokens for the dataset. What does the second row of that tensor contain? What does the first row of the second batch contain? (Careful—students often get this one wrong! Be sure to check your answer on the book's website.)\n",
        "1. Why do we need padding for text classification? Why don't we need it for language modeling?\n",
        "1. What does an embedding matrix for NLP contain? What is its shape?\n",
        "1. What is \"perplexity\"?\n",
        "1. Why do we have to pass the vocabulary of the language model to the classifier data block?\n",
        "1. What is \"gradual unfreezing\"?\n",
        "1. Why is text generation always likely to be ahead of automatic identification of machine-generated texts?"
      ]
    },
    {
      "cell_type": "markdown",
      "metadata": {
        "id": "1ZtkqAgBClx9"
      },
      "source": [
        "### Further Research"
      ]
    },
    {
      "cell_type": "markdown",
      "metadata": {
        "id": "giJKBEj_Clx9"
      },
      "source": [
        "1. See what you can learn about language models and disinformation. What are the best language models today? Take a look at some of their outputs. Do you find them convincing? How could a bad actor best use such a model to create conflict and uncertainty?\n",
        "1. Given the limitation that models are unlikely to be able to consistently recognize machine-generated texts, what other approaches may be needed to handle large-scale disinformation campaigns that leverage deep learning?"
      ]
    },
    {
      "cell_type": "code",
      "execution_count": null,
      "metadata": {
        "id": "UEJimuchClx9"
      },
      "outputs": [],
      "source": []
    }
  ],
  "metadata": {
    "colab": {
      "provenance": [],
      "gpuType": "V100"
    },
    "jupytext": {
      "split_at_heading": true
    },
    "kernelspec": {
      "display_name": "Python 3",
      "name": "python3"
    },
    "language_info": {
      "codemirror_mode": {
        "name": "ipython",
        "version": 3
      },
      "file_extension": ".py",
      "mimetype": "text/x-python",
      "name": "python",
      "nbconvert_exporter": "python",
      "pygments_lexer": "ipython3",
      "version": "3.11.5"
    },
    "accelerator": "GPU"
  },
  "nbformat": 4,
  "nbformat_minor": 0
}